{
 "cells": [
  {
   "attachments": {},
   "cell_type": "markdown",
   "metadata": {
    "vscode": {
     "languageId": "shellscript"
    }
   },
   "source": [
    "# 1. Installation de MYSQL sur un Raspberry pi , \n",
    "1. Brancher le raspberry au réseau de l'IUT et connecter vous en ssh :"
   ]
  },
  {
   "cell_type": "code",
   "execution_count": null,
   "metadata": {
    "vscode": {
     "languageId": "shellscript"
    }
   },
   "outputs": [],
   "source": [
    "ssh pi@10.205.2.2 "
   ]
  },
  {
   "attachments": {},
   "cell_type": "markdown",
   "metadata": {},
   "source": [
    "2. Installer un serveur mysql sur le raspberry pi et reinitialiser les bases de données dessus (fixer un mot de passe pour l'administrateur)"
   ]
  },
  {
   "cell_type": "code",
   "execution_count": null,
   "metadata": {
    "vscode": {
     "languageId": "shellscript"
    }
   },
   "outputs": [],
   "source": [
    "sudo apt update\n",
    "apt-cache search mysql-server\n",
    "sudo apt install default-mysql-server\n",
    "sudo rm -r /var/lib/mysql\n",
    "sudo mysql_secure_installation\n"
   ]
  },
  {
   "attachments": {},
   "cell_type": "markdown",
   "metadata": {},
   "source": [
    "3. Verifier le port en ecoute pour valider le bon demarrage du service MySQL (TCP : 3306)"
   ]
  },
  {
   "cell_type": "code",
   "execution_count": null,
   "metadata": {
    "vscode": {
     "languageId": "shellscript"
    }
   },
   "outputs": [],
   "source": [
    "service mysql status | grep \"port\""
   ]
  },
  {
   "attachments": {},
   "cell_type": "markdown",
   "metadata": {},
   "source": [
    "4. Tester alors en local dans la console de l'utilisateur pi la connexion avec l'outil mysql "
   ]
  },
  {
   "cell_type": "code",
   "execution_count": null,
   "metadata": {
    "vscode": {
     "languageId": "shellscript"
    }
   },
   "outputs": [],
   "source": [
    "sudo mysql \n",
    "mysql -u root -p"
   ]
  },
  {
   "attachments": {},
   "cell_type": "markdown",
   "metadata": {},
   "source": [
    "5. Installer ensuite un serveur web apache2 et le support php et phpmyadmin"
   ]
  },
  {
   "cell_type": "code",
   "execution_count": null,
   "metadata": {
    "vscode": {
     "languageId": "shellscript"
    }
   },
   "outputs": [],
   "source": [
    "apt install apache2 php php-mysql\n",
    "apt install phpmyadmin"
   ]
  },
  {
   "attachments": {},
   "cell_type": "markdown",
   "metadata": {},
   "source": [
    "6. Tester la connexion à phpmyadmin depuis un navigateur web"
   ]
  },
  {
   "attachments": {},
   "cell_type": "markdown",
   "metadata": {},
   "source": [
    "On recuperrer donc avec wget le code html de la page phpmyadmin qu'on sauvegarde dans le fichier du meme nom . Puis on affiche le fichier html du meme nom"
   ]
  },
  {
   "cell_type": "code",
   "execution_count": null,
   "metadata": {
    "vscode": {
     "languageId": "shellscript"
    }
   },
   "outputs": [],
   "source": [
    "wget 127.0.0.1/phpmyadmin\n",
    "cat phpmyadmin"
   ]
  },
  {
   "attachments": {},
   "cell_type": "markdown",
   "metadata": {},
   "source": [
    "on se connect avec phpmyadmin "
   ]
  },
  {
   "attachments": {},
   "cell_type": "markdown",
   "metadata": {},
   "source": [
    "7. Créer la base de données vue en TD , les utilisateurs et les droits associés"
   ]
  },
  {
   "cell_type": "code",
   "execution_count": null,
   "metadata": {
    "vscode": {
     "languageId": "sql"
    }
   },
   "outputs": [],
   "source": [
    "Update Avis set IDlyceens = (select id from listeLycéens); "
   ]
  },
  {
   "attachments": {},
   "cell_type": "markdown",
   "metadata": {},
   "source": [
    "Il est possible de créer des droits pour 1 seul colonne avec grant select (nom_colonne) on nom_table to 'user'@'localhost';\n",
    "ou de supprimer les droits avec revoke select (nom_colonne) on nom_table to 'user'@'localhost';"
   ]
  },
  {
   "attachments": {},
   "cell_type": "markdown",
   "metadata": {},
   "source": [
    "On creer d'abord les utilisateurs dans la base : "
   ]
  },
  {
   "cell_type": "code",
   "execution_count": null,
   "metadata": {
    "vscode": {
     "languageId": "sql"
    }
   },
   "outputs": [],
   "source": [
    "use Gdle;\n",
    "Create user 'maths'@'localhost';\n",
    "create user 'francais'@'localhost';\n",
    "create user 'physique@'localhost';"
   ]
  },
  {
   "attachments": {},
   "cell_type": "markdown",
   "metadata": {},
   "source": [
    "puis on gestionne les droits"
   ]
  },
  {
   "cell_type": "code",
   "execution_count": null,
   "metadata": {
    "vscode": {
     "languageId": "sql"
    }
   },
   "outputs": [],
   "source": [
    "grant select (avisMaths) on avis to 'maths'@'localhost';\n",
    "grant select (avisFrançais) on avis to 'francais'@'localhost';\n",
    "grant select on \".\" to {'francais'@'localhost','maths'@'localhost','physique'@'localhost'};\n",
    "grant select (avisPhysique) on avis to 'physique'@'localhost';\n",
    "revoke select (avisFrançais , avis  ) on avis to 'maths'@'localhost';"
   ]
  }
 ],
 "metadata": {
  "language_info": {
   "name": "python"
  },
  "orig_nbformat": 4
 },
 "nbformat": 4,
 "nbformat_minor": 2
}
