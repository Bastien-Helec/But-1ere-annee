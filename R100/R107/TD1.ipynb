{
 "cells": [
  {
   "cell_type": "markdown",
   "metadata": {},
   "source": [
    "### Ce TD a etait realisé par ©HelecBastien tout utilisation sans indication de source est prohibé\n",
    "---\n",
    "# 1. Converison numériques : \n",
    "#### 1. *Le 26 août 2021*, le taux de change était de **1,1767 USD** (Dollar Américain) pour **1 Euro**. Donner la somme équivalente à **45,67 USD** en Euros et inversement."
   ]
  },
  {
   "cell_type": "code",
   "execution_count": 16,
   "metadata": {},
   "outputs": [
    {
     "name": "stdout",
     "output_type": "stream",
     "text": [
      "la conversion de 45.67$ est de 38.81 €\n",
      "la conversion de 45.67€ est de 53.74 $\n"
     ]
    }
   ],
   "source": [
    "x=(float(input('valeur a convertir')))\n",
    "#↑ assigne une valeur numeriques a convertir\n",
    "\n",
    "#↓ permet d'avoir le taux pour 1 € en $USD\n",
    "tauxUSD=1.1767\n",
    "\n",
    "#↓ convertit les prix USD en €\n",
    "def convertusd():\n",
    "\n",
    "    #↓ assignation d'une variable (non local)\n",
    "    global euro\n",
    "\n",
    "    #↓ car  x$ *1€ /1.1767$ <=> x$ /1.1767$ (tauxUSD)\n",
    "    euro=round(x/tauxUSD,2)\n",
    "    \n",
    "    #↓ affiche : la conversion de x en $ et de euro en €\n",
    "    print (f'la conversion de {x}$ est de {euro} €')\n",
    "\n",
    "#↓ convertit les prix € en USD\n",
    "def convertEURO(): \n",
    "    \n",
    "    #↓ assignation d'une variable (non local)\n",
    "    global USD \n",
    "\n",
    "    #↓ car x€ * 1.1767$ /1€ <=> x€ *1.1767$ (tauxUSD)\n",
    "    USD=round(x*tauxUSD,2)\n",
    "\n",
    "    #↓ affiche : la conversion de x en euro et de USD en $\n",
    "    print (f'la conversion de {x}€ est de {USD} $')\n",
    "\n",
    "#↓ appel des fonctions\n",
    "convertusd() \n",
    "convertEURO()"
   ]
  },
  {
   "cell_type": "markdown",
   "metadata": {},
   "source": [
    "#### 2. Donner ensuite la valeur de **53.48 USD** en CHF sachant que le taux est de **1,0789 CHF** (Franc Suisse) pour **1 Euro**"
   ]
  },
  {
   "cell_type": "code",
   "execution_count": 22,
   "metadata": {},
   "outputs": [
    {
     "name": "stdout",
     "output_type": "stream",
     "text": [
      "la conversion de 53.48$ est de 45.45 €\n",
      "la conversion de 53.48 $ en CHF est de 49.04 CHF\n"
     ]
    }
   ],
   "source": [
    "x=(float(input('valeur a convertir')))\n",
    "#↑ assigne une valeur numeriques a convertir\n",
    "\n",
    "#↓ permet d'avoir le taux pour 1 USD en CHF (franc suisse)\n",
    "tauxCHF=1.0789\n",
    "\n",
    "#↓ permet d'avoir le taux pour 1 € en $USD\n",
    "tauxUSD=1.1767\n",
    "\n",
    "#↓ convertit les prix USD en €\n",
    "def convertUSDtoEURO(): \n",
    "\n",
    "    #↓ appel de la fonction qui permet de convertir USD en € \n",
    "    convertusd()\n",
    "\n",
    "    #↓ affiche la valeur de conversion en euro (debug)  \n",
    "    #print(f'{euro} €') \n",
    "\n",
    "\n",
    "def convertEUROtoCHF():\n",
    "\n",
    "    #↓ assignation d'une variable (non local)\n",
    "    global CHF\n",
    "\n",
    "    #↓ car x€ * 1.0789 CHF /1€ <=> x€ *1.0789 CHF (tauxCHF)\n",
    "    CHF=round(euro*tauxCHF,2)\n",
    "\n",
    "    #↓ affiche : la conversion de x en USD et de CHF en CHF\n",
    "    print(f'la conversion de {x} $ en CHF est de {CHF} CHF')\n",
    "\n",
    "#↓ appel de la fonction convertUSDtoEURO\n",
    "convertUSDtoEURO()\n",
    "#↓ appel de la fonction convertEUROtoCHF\n",
    "convertEUROtoCHF()"
   ]
  },
  {
   "cell_type": "markdown",
   "metadata": {},
   "source": [
    "#### 3. Soit le point de coordonnées GPS suivant (degrés minutes secondes) : 48° 51' 30.132\" N 2° 17' 40.132\" E. Comment obtenir les valeurs de la latitude et de la longitude en un seul réel afin de l’intégrer dans une URL google maps (ex:https://www.google.com/maps/@43.3466667,3.2225,18z) ?\n",
    "**NB : 60 minutes d’angle correspondent à 1 degré, et 60 secondes d’angle correspondent à 1 minute.**"
   ]
  },
  {
   "cell_type": "code",
   "execution_count": 41,
   "metadata": {},
   "outputs": [
    {
     "name": "stdout",
     "output_type": "stream",
     "text": [
      "48.0 0.85 0.00837\n",
      "48.85837\n",
      "https://www.google.com/maps/@48.85837,2.294481111111111,230z,18z\n"
     ]
    }
   ],
   "source": [
    "#↓ assignement des coordonées nord\n",
    "dn,mn,sn=float(48),float(51),30.132\n",
    "\n",
    "#↓ assignement des coordonées est\n",
    "de,me,se=float(2),float(17),40.132\n",
    "\n",
    "# zoom=input('configurer zoom (avec un z a la fin)') #max zoom z21 \n",
    "#↓ verif conversion float (debug)\n",
    "# print (dn,mn,sn)\n",
    "\n",
    "\n",
    "#↓ function definissant l'url nord\n",
    "def nord() :\n",
    "    #↓ calcul des degres minutes et degrées secondes     \n",
    "    dmn=mn/60 ; dsn=sn/3600\n",
    "\n",
    "    #↓ assignation d'une variable (non local)\n",
    "    global urlnord\n",
    "    \n",
    "    #↓ calcul de l'url nord \n",
    "    urlnord=dn+dmn+dsn\n",
    "    \n",
    "    #↓ affiche le resultat et l'affichage en url du nord \n",
    "    print(urlnord)\n",
    "\n",
    "#↓ verification resultats (debug)\n",
    "print(dn,dmn,dsn)\n",
    "\n",
    "#↓ function definissant l'url est\n",
    "def est():\n",
    "    #↓ calcul des degres minutes et degrées secondes   \n",
    "    dme= me/60 ; dse=se/3600 \n",
    "\n",
    "    #↓ assignation d'une variable (non local)\n",
    "    global urlest\n",
    "\n",
    "    #↓ calcul de l'url est\n",
    "    urlest=de+dme+dse\n",
    "\n",
    "    #↓ affiche le resultat et l'affichage en url de l'est\n",
    "    # print(urlest)\n",
    "\n",
    "#↓ function definissant l'url final\n",
    "def urlfinal(): \n",
    "\n",
    "    #↓ affiche l'url a taper dans google \n",
    "    print(f'https://www.google.com/maps/@{urlnord},{urlest},{zoom},18z')\n",
    "\n",
    "#↓ appel de la fonction nord\n",
    "nord()\n",
    "\n",
    "#↓ appel de la fonction est\n",
    "est()\n",
    "\n",
    "#↓ appel de la fonction urlfinal\n",
    "urlfinal()\n"
   ]
  },
  {
   "cell_type": "markdown",
   "metadata": {},
   "source": [
    "#### 4. Donner ensuite le point GPS indiqué dans l’URL ci-dessus https://www.google.com/maps/@43.3466667,3.2225,18z en degrés minutes secondes.\n",
    "**NB : 60 minutes d’angle correspondent à 1 degré, et 60 secondes d’angle correspondent à 1 minute.**"
   ]
  },
  {
   "cell_type": "code",
   "execution_count": 85,
   "metadata": {},
   "outputs": [
    {
     "name": "stdout",
     "output_type": "stream",
     "text": [
      "longitude est de : 43°, 20',24.000264\" N\n",
      "lattitude est de : 4°, 13',9.072000000000001\" E\n"
     ]
    }
   ],
   "source": [
    "#↓ assignation des valeurs dans l'url sous dans l'ordre nord et est \n",
    "nord = '43.3466667'\n",
    "est= '3.2225'\n",
    "\n",
    "#↓ function coordonées nord (longitude)\n",
    "def coordnord() :\n",
    "\n",
    "    #↓ casser le string sous format suivant : 43° 34' 6667\" pas recalculer \n",
    "    dn=nord[0:2] ; dmn='0.'+nord[3:5] ; dsn='0.00'+nord[5:] \n",
    "    \n",
    "    #↓ affiche le string separer (debug)\n",
    "    # print(dn,dmn,dsn)\n",
    "\n",
    "    #↓ calcul les minutes et secondes nord  \n",
    "\n",
    "    # = ↓ mn=float(dmn)*60; mn2=str(mn) ; sn=float(dsn+mn2[3:])*3600    \n",
    "    mn=int(float(dmn)*60) ; sn=float(dsn+ dmn[3:])*3600\n",
    "\n",
    "    #↓ resultat en affichant les données ° ,' \"\n",
    "\n",
    "    print(f'longitude est de : {dn}°, {mn}\\',{sn}\" N')\n",
    "\n",
    "#↓ function coordonées est (lattitude)\n",
    "def coordest(): \n",
    "\n",
    "    #↓ casser le string sous format suivant : 3° 22' 25\" pas recalculer\n",
    "    de=nord[0] ; dme='0.'+est[3:5] ; dse='0.00'+est[4:]\n",
    "    \n",
    "    #↓ affiche le string separer (debug)\n",
    "    # print(de,dme,dse)\n",
    "\n",
    "    #↓ calcul les minutes et secondes est\n",
    "    me=int(float(dme)*60) ; se=float(dse+dme[3:])*3600\n",
    "\n",
    "    #↓ resultat en affichant les données ° ,' \"\n",
    "    print(f'lattitude est de : {de}°, {me}\\',{se}\" E')\n",
    "\n",
    "coordnord()\n",
    "coordest()"
   ]
  },
  {
   "cell_type": "markdown",
   "metadata": {},
   "source": [
    "#### 5. Combien il y a-t-il de secondes dans 1 jour 3 h 26 min 5 s ? "
   ]
  },
  {
   "cell_type": "code",
   "execution_count": 90,
   "metadata": {},
   "outputs": [
    {
     "name": "stdout",
     "output_type": "stream",
     "text": [
      "1565 secondes\n"
     ]
    }
   ],
   "source": [
    "#↓ assignation des valeurs jour heure min seconde a la suite\n",
    "j,h,m,s=1,3,26,5\n",
    "\n",
    "#↓ function convertit jour heure min en sec  \n",
    "def calculensec() :\n",
    "\n",
    "    #↓ 24h dans 1 jours\n",
    "    h1=h+(j*24)\n",
    "\n",
    "    #↓ 60 min dans 1 h\n",
    "    m1=m+(h*60)\n",
    "\n",
    "    #↓ 60sec dans 1 min\n",
    "    s1=s+(m*60)\n",
    "\n",
    "    #affiche le resultat en secondes  \n",
    "    print (f'{s1} secondes')\n",
    "\n",
    "calculensec()"
   ]
  },
  {
   "cell_type": "markdown",
   "metadata": {},
   "source": [
    "#### 6. Donner la durée en jours heures minutes secondes correspondant à 654321 s."
   ]
  },
  {
   "cell_type": "code",
   "execution_count": 129,
   "metadata": {},
   "outputs": [
    {
     "name": "stdout",
     "output_type": "stream",
     "text": [
      "654321sec equivaut a ,7j 13h 45min 20sec\n"
     ]
    }
   ],
   "source": [
    "#↓ x est la valeur par defaut qui nous est demande de reconfigurer en horloge    \n",
    "x=654321\n",
    "\n",
    "#↓ function permettant le calcul par jours , heures, minutes , secondes\n",
    "def calculformhorloge() :\n",
    "\n",
    "    #↓ conversion de sec en jours \n",
    "\n",
    "    j=x/(86400)\n",
    "\n",
    "    #↓ conversion avec suppression de l'entier précedent permattant resepctivement de calculer heure , minutes et secondes\n",
    "    \n",
    "    h=(j-int(j))*24\n",
    "    m=(h-int(h))*60\n",
    "    s=(m-int(m))*60\n",
    "\n",
    "    #↓ affichage du resultats\n",
    "    print(f'{x}sec equivaut a ,{int(j)}j {int(h)}h {int(m)}min {int(s)}sec')\n",
    "\n",
    "#↓ appel de la function calculformhorloge\n",
    "calculformhorloge()"
   ]
  },
  {
   "cell_type": "markdown",
   "metadata": {},
   "source": [
    "# 2 Structures conditionnelles :"
   ]
  },
  {
   "cell_type": "markdown",
   "metadata": {},
   "source": [
    "#### 1. Les resultats sont a faire en calcul mentals"
   ]
  },
  {
   "cell_type": "code",
   "execution_count": 2,
   "metadata": {},
   "outputs": [
    {
     "name": "stdout",
     "output_type": "stream",
     "text": [
      "code 1= 2 4 6\n",
      "code 2= 2 10 12\n",
      "code 3= 26 26 52\n",
      "code 4= 4 4 8\n",
      "code 5= 10 10 20\n",
      "code 6= 2 26 28\n",
      "code 7= 4 4 8\n",
      "code 8= 10 10 20\n",
      "code 9= 26 26 52\n"
     ]
    }
   ],
   "source": [
    "#code 1\n",
    "a=2\n",
    "b=4\n",
    "if b>10:\n",
    "    b=a*b\n",
    "    a=b\n",
    "c = a+b\n",
    "print('code 1=',a,b,c)\n",
    "\n",
    "# code 2\n",
    "a=2\n",
    "b=10\n",
    "if b>10:\n",
    "    b=a*b\n",
    "    a=b\n",
    "c = a+b\n",
    "print('code 2=',a,b,c)\n",
    "\n",
    "# code 3\n",
    "a=2\n",
    "b=13\n",
    "if b>10:\n",
    "    b=a*b\n",
    "    a=b\n",
    "c = a+b\n",
    "print('code 3=',a,b,c)\n",
    "\n",
    "# code 4\n",
    "a=2\n",
    "b=4\n",
    "if b>10:\n",
    "    b=a*b\n",
    "else:\n",
    "    a=b\n",
    "c = a+b\n",
    "print('code 4=',a,b,c)\n",
    "\n",
    "#code 5\n",
    "a=2\n",
    "b=10\n",
    "if b>10:\n",
    "    b=a*b\n",
    "else:\n",
    "    a=b\n",
    "c = a+b\n",
    "print('code 5=',a,b,c)\n",
    "\n",
    "#code 6\n",
    "a=2\n",
    "b=13\n",
    "if b>10:\n",
    "    b=a*b\n",
    "else:\n",
    "    a=b\n",
    "c = a+b\n",
    "print('code 6=',a,b,c)\n",
    "\n",
    "#code 7\n",
    "a=2\n",
    "b=4\n",
    "if b>10:\n",
    "    b=a*b\n",
    "a=b\n",
    "c = a+b\n",
    "print('code 7=',a,b,c)\n",
    "\n",
    "#code 8\n",
    "a=2\n",
    "b=10\n",
    "if b>10:\n",
    "    b=a*b\n",
    "a=b\n",
    "c = a+b\n",
    "print('code 8=',a,b,c)\n",
    "\n",
    "#code 9\n",
    "a=2\n",
    "b=13\n",
    "if b>10:\n",
    "    b=a*b\n",
    "a=b\n",
    "c = a+b\n",
    "print('code 9=',a,b,c)"
   ]
  },
  {
   "cell_type": "markdown",
   "metadata": {},
   "source": [
    "#### 2. Écrire un script qui, connaissant la taille (en mètres) et la masse (en kg) d’un individu, lui renvoie la valeur de l’Indice de Masse Corporelle (IMC=masse/taille²) avec un petit commentaire :\n",
    "\n",
    "•si l’IMC est inférieur à 25, le commentaire pourra être : «vous n’êtes pas en surpoids»\n",
    "\n",
    "•sinon le commentaire pourra être : «vous êtes en surpoids».\n",
    "On pourra dans un premier temps, fixer les valeurs « en dur » dans le programme puis ensuite demander interactivement les valeurs à l’utilisateur à l’aide de la fonction input()."
   ]
  },
  {
   "cell_type": "code",
   "execution_count": 14,
   "metadata": {},
   "outputs": [
    {
     "name": "stdout",
     "output_type": "stream",
     "text": [
      "vous n'etes pas en surpoids car 20.061728395061728<25\n"
     ]
    }
   ],
   "source": [
    "# assignation des valeurs en input taille est masse\n",
    "t=float(input('entrer votre taille en mètres'))\n",
    "m=float(input('entrer votre masse en kilo'))\n",
    "\n",
    "# function IMC permettant de calculer l'IMC\n",
    "def IMC():\n",
    "\n",
    "    #calcul de l'IMC\n",
    "    tcarré=t*t\n",
    "    imc=m/tcarré\n",
    "\n",
    "    #si l'IMC est inferieur a 25\n",
    "    if imc<25 : \n",
    "\n",
    "        #afficher vous n'etes pas en surpoids car {imc}<25\n",
    "        print(f\"vous n'etes pas en surpoids car {imc}<25\")\n",
    "    \n",
    "    #sinon\n",
    "    else :\n",
    "\n",
    "        #afficher vous etes en surpoids car {imc}>25\n",
    "        print(f\"vous êtes en surpoids car {imc}>25\")\n",
    "#appel de la fonctin IMC\n",
    "IMC()"
   ]
  },
  {
   "cell_type": "markdown",
   "metadata": {},
   "source": [
    "#### 3. Écrire un programme général de résolution d’une équation du second degré ax²+bx+c=0. La racine carrée se calcule à l’aide de la fonction sqrt(x) du module math (from math import sqrt).\n",
    "\n"
   ]
  },
  {
   "cell_type": "code",
   "execution_count": 1,
   "metadata": {},
   "outputs": [
    {
     "name": "stdout",
     "output_type": "stream",
     "text": [
      "Equation: 2x²+2x+2\n",
      "Delta: -12\n",
      "pas de solution pour l'équation actuel\n"
     ]
    }
   ],
   "source": [
    "    #↓ assignation des valeurs pour l'equations\n",
    "    a,b,c= 2,2,2\n",
    "    \n",
    "    #↓ calcul de delta\n",
    "    d=b**2-4*a*c\n",
    "    \n",
    "    #↓ affichage de l'équation\n",
    "    print(f'Equation: {a}x²+{b}x+{c}')\n",
    "    \n",
    "    #↓ affichage de delta \n",
    "    print(f'Delta: {d}')\n",
    "    \n",
    "    #↓ fonction permettant de calculer les racines\n",
    "    def racine():\n",
    "        \n",
    "        #↓ si delta est superieur a 0\n",
    "        if d>0:\n",
    "            #↓ racine de x1 qui est -b-racine de d/2a\\\n",
    "            x1=(-b-sqrt(d))/(2*a)\n",
    "\n",
    "            #↓ racine de x1 qui est -b-racine de d/2a\n",
    "            x2=(-b+sqrt(d))/(2*a)\n",
    "\n",
    "            #↓ affichage des 2 racines\n",
    "            print(x1,x2)\n",
    "        #↓ sinon si d=0 racine double\n",
    "        elif d==0 :\n",
    "            #↓ calcul pas besoin de sqrt racine double\n",
    "            x1=-b/(2*a)\n",
    "    \n",
    "            #↓ affichage de la racine double\n",
    "            print(x1)\n",
    "    \n",
    "        #sinon\n",
    "        else :\n",
    "            #↓ affichage pas de solution pour l'équation actuel\n",
    "            print(\"pas de solution pour l'équation actuel\")\n",
    "            \n",
    "    #↓ appel de la fonction racine\\n\",\n",
    "    racine()\n"
   ]
  }
 ],
 "metadata": {
  "kernelspec": {
   "display_name": "Python 3.10.4 64-bit",
   "language": "python",
   "name": "python3"
  },
  "language_info": {
   "codemirror_mode": {
    "name": "ipython",
    "version": 3
   },
   "file_extension": ".py",
   "mimetype": "text/x-python",
   "name": "python",
   "nbconvert_exporter": "python",
   "pygments_lexer": "ipython3",
   "version": "3.10.4"
  },
  "orig_nbformat": 4,
  "vscode": {
   "interpreter": {
    "hash": "916dbcbb3f70747c44a77c7bcd40155683ae19c65e1c03b4aa3499c5328201f1"
   }
  }
 },
 "nbformat": 4,
 "nbformat_minor": 2
}
