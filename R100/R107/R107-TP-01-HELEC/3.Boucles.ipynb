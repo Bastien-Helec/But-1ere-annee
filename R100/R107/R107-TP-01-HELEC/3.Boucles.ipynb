{
 "cells": [
  {
   "cell_type": "markdown",
   "metadata": {},
   "source": [
    "# 3.Boucles :"
   ]
  },
  {
   "cell_type": "markdown",
   "metadata": {},
   "source": [
    "## 1. Écrire un script qui affiche autant d’étoiles (voir l’opérateur multiplier sur les séquences) que les valeurs entières d’une liste. Par exemple [5,8,3,7,11,2]"
   ]
  },
  {
   "cell_type": "code",
   "execution_count": 22,
   "metadata": {},
   "outputs": [
    {
     "name": "stdout",
     "output_type": "stream",
     "text": [
      "*****\n",
      "********\n",
      "***\n",
      "*******\n",
      "***********\n",
      "**\n"
     ]
    }
   ],
   "source": [
    "#une fonction nommer printlph qui va permettre d'afficher les points\n",
    "def printlpv() :\n",
    "\n",
    "    #assignation de la varibale lp en global\n",
    "    global lp\n",
    "    \n",
    "    # Assignation a la valeur de lp une suite de caracteres\n",
    "    lp=5,8,3,7,11,2\n",
    "    \n",
    "    # changement du type de la suite de caracteres en liste\n",
    "    lp=list(lp)\n",
    "\n",
    "    #Pour une variable x dans la liste lp :\n",
    "    for x in lp:\n",
    "\n",
    "        #Assignation d'une nouvelle variable ap qui est la multiplication de x fois le nombres de point *\n",
    "        ap=x*\"*\"\n",
    "\n",
    "        # Affiche les points de ap\n",
    "        print(f\"{ap}\")\n",
    "\n",
    "#appel de la fonction printlph\n",
    "printlpv()"
   ]
  },
  {
   "cell_type": "markdown",
   "metadata": {},
   "source": [
    "## 2. Comment écrire une version 2 qui s’affiche horizontalement avec 2 boucles ? On pourra chercher la valeur maximum de la liste avec la fonction  max()  et utiliser l’argument  end  de la fonction  print(), voir help(print)."
   ]
  },
  {
   "cell_type": "code",
   "execution_count": 27,
   "metadata": {},
   "outputs": [
    {
     "name": "stdout",
     "output_type": "stream",
     "text": [
      "    * \n",
      "    * \n",
      " *  * \n",
      " * ** \n",
      " * ** \n",
      "** ** \n",
      "** ** \n",
      "***** \n",
      "******\n",
      "******\n",
      "******\n"
     ]
    }
   ],
   "source": [
    "#une fonction nommer printlpv qui va permettre d'afficher les points\n",
    "def printlpv() :\n",
    "\n",
    "    # Assignation a la valeur de lp une suite de caracteres\n",
    "    # lp=[5,8,3,7,11,2]\n",
    "\n",
    "    # Assignation de la valeur max a lp \n",
    "    Max=max(lp)\n",
    "\n",
    "    #Pour une variable x dans le max de la liste de lp :\n",
    "    for x in range(Max):   \n",
    "        \n",
    "        #Initialisation de la variable p\n",
    "        p=\"\"\n",
    "\n",
    "        #decrementation de la valeur max a 1 \n",
    "        Max=Max-1\n",
    "\n",
    "        #pour i dans l'intervalle longueur de lp :\n",
    "        for i in range (len(lp)):\n",
    "            \n",
    "            #si lp[valeur de i] est superieur ou egal a max :\n",
    "            if lp[i] >= Max:\n",
    "\n",
    "                #assignation de la valeur p a *\n",
    "                p = p + \"*\"\n",
    "            \n",
    "            #sinon \n",
    "            else :\n",
    "\n",
    "                #assignation de la valeur p a espace\n",
    "                p = p + \" \"\n",
    "        \n",
    "        # Affiche les points de p\n",
    "        print(f\"{p}\")\n",
    "\n",
    "#appel de la fonction printlpv\n",
    "printlpv()"
   ]
  }
 ],
 "metadata": {
  "kernelspec": {
   "display_name": "Python 3.6.9 64-bit",
   "language": "python",
   "name": "python3"
  },
  "language_info": {
   "codemirror_mode": {
    "name": "ipython",
    "version": 3
   },
   "file_extension": ".py",
   "mimetype": "text/x-python",
   "name": "python",
   "nbconvert_exporter": "python",
   "pygments_lexer": "ipython3",
   "version": "3.10.6"
  },
  "orig_nbformat": 4,
  "vscode": {
   "interpreter": {
    "hash": "31f2aee4e71d21fbe5cf8b01ff0e069b9275f58929596ceb00d14d90e3e16cd6"
   }
  }
 },
 "nbformat": 4,
 "nbformat_minor": 2
}
