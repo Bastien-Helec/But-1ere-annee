{
 "cells": [
  {
   "cell_type": "markdown",
   "metadata": {},
   "source": [
    "### Ce TP a etait realisé par ©HelecBastien tout utilisation sans indication de source est prohibé\n",
    "---\n",
    "## TP 05-06\n",
    "### Le but de ce TP est de commencer à programmer un jeu de bataille navale en mode texte en python.\n",
    "\n",
    "### 1. Introduction\n",
    "Soit la variable suivante : g=[[1,2,3],['a','b','c']].\n",
    "\n",
    "1. Quel est le contenu de g[0][1] ? De g[1][2] ?"
   ]
  },
  {
   "cell_type": "code",
   "execution_count": null,
   "metadata": {
    "pycharm": {
     "is_executing": true
    }
   },
   "outputs": [],
   "source": [
    "def vars():\n",
    "    global g\n",
    "    g=[[1,2,3],['a','b','c']]\n",
    "    print(g[0][1], g[1][2])\n",
    "vars()"
   ]
  },
  {
   "cell_type": "markdown",
   "metadata": {},
   "source": [
    "2. Comment afficher g sous la forme de 2 lignes de 3 valeurs séparées par des espaces ?"
   ]
  },
  {
   "cell_type": "code",
   "execution_count": null,
   "metadata": {},
   "outputs": [],
   "source": [
    "def prthorz():\n",
    "    for x in range (3): \n",
    "        print (g[0][x] , end=\" \")\n",
    "    print()\n",
    "    for x in range(3):\n",
    "        print (g[1][x],end=' ')\n",
    "prthorz()"
   ]
  },
  {
   "cell_type": "markdown",
   "metadata": {},
   "source": [
    "3. Comment afficher g sous la forme de 3 lignes et 2 colonnes ?"
   ]
  },
  {
   "cell_type": "code",
   "execution_count": null,
   "metadata": {},
   "outputs": [],
   "source": [
    "def prtvert():\n",
    "    for x in range (3): \n",
    "        print (g[0][x] ,end=' ')\n",
    "        print(g[1][x] , end='\\n' )\n",
    "prtvert()"
   ]
  },
  {
   "cell_type": "markdown",
   "metadata": {},
   "source": [
    "### 2. Bataille navale :\n",
    "Le but du jeu est de « couler » tous les bateaux du joueur adverse. Chaque joueur possède les bateaux suivants :<br>\n",
    "• 1 PORTE_AVION (noté P) de taille 4<br>\n",
    "• 2 CROISEURS (noté C) de taille 3<br>\n",
    "• 3 TORPILLEURS (noté T) de taille 2<br>\n",
    "• 4 SOUS_MARIN (noté S) de taille 1<br>\n",
    "Ils sont placés secrètement, sans se toucher, sur une grille carrée de 8 lignes par 10 colonnes (dans notre cas).\n",
    "\n",
    "Chaque joueur, à son tour, « fait feu » sur une case donnée de l'adversaire. S'il s'agit du morceau d'un bateau ennemi,\n",
    "l'adversaire indique « touché » et le joueur attaquant peut « tirer » une seconde fois. Quand tous les morceaux d’un\n",
    "bateau sont touchés, on doit dire « touché-coulé ».\n",
    "\n",
    "Si un joueur manque sa cible, on dit alors « dans l'eau » et le tour\n",
    "du joueur est terminé. Le joueur ayant coulé le premier, tous les bateaux de son adversaire a gagné la partie."
   ]
  },
  {
   "cell_type": "markdown",
   "metadata": {},
   "source": [
    "1. Tester le jeu en ligne par exemple sur http://fr.battleship-game.org/. <br><br>\n",
    "2. On décide de représenter les morceaux de chaque bateau par une lettre et les cases vides par un tiret. Créer\n",
    "manuellement une liste de liste contenant les 8 lignes et les 10 colonnes de la grille suivante :"
   ]
  },
  {
   "cell_type": "code",
   "execution_count": null,
   "metadata": {},
   "outputs": [],
   "source": [
    "def cadri(): \n",
    "    global g\n",
    "    global alpha\n",
    "    g=[\n",
    "    [\"-\",\"C\",\"C\",\"C\",\"-\",\"-\",\"-\",\"T\",\"T\",\"-\"],\n",
    "    [\"-\",\"-\",\"-\",\"-\",\"-\",\"-\",\"-\",\"-\",\"-\",\"-\"],\n",
    "    [\"C\",\"-\",\"-\",\"-\",\"-\",\"-\",\"-\",\"-\",\"-\",\"-\"],\n",
    "    [\"C\",\"-\",\"P\",\"P\",\"P\",\"P\",\"-\",\"-\",\"-\",\"T\"],\n",
    "    [\"C\",\"-\",\"-\",\"-\",\"-\",\"-\",\"-\",\"-\",\"-\",\"T\"], \n",
    "    [\"-\",\"-\",\"S\",\"-\",\"T\",\"-\",\"-\",\"-\",\"-\",\"-\"], \n",
    "    [\"-\",\"-\",\"-\",\"-\",\"T\",\"-\",\"-\",\"S\",\"-\",\"S\"], \n",
    "    [\"-\",\"S\",\"-\",\"-\",\"-\",\"-\",\"-\",\"-\",\"-\",\"-\"]]\n",
    "    alpha=[' ','A','B','C','D','E','F','G','H','I','J']\n",
    "\n",
    "    for x in range(len(g)): \n",
    "        # nbr=print(x+1, end=' ')\n",
    "        for y in range(len(g[x])):\n",
    "            print(g[x][y], end=\" \")\n",
    "        print()\n",
    "cadri()\n"
   ]
  },
  {
   "cell_type": "markdown",
   "metadata": {},
   "source": [
    "3. Créer ensuite une fonction qui affiche uniquement le contenu d’une grille (Voir fig. 1 : Version simple).\n",
    "EN OPTION : Afficher la numérotation des lignes et des colonnes (Voir fig. 2). Pour les colonnes, on peut,\n",
    "soit utiliser une liste contenant les lettres ABCD..., soit afficher la lettre à partir de son code ASCII : la\n",
    "fonction  ord(c)  donne le code ASCII de la lettre  c  et la fonction  chr(x)  donne le caractère\n",
    "correspondant au code ASCII x."
   ]
  },
  {
   "cell_type": "code",
   "execution_count": null,
   "metadata": {},
   "outputs": [],
   "source": [
    "def cadrinbr():\n",
    "    for w in range(len(alpha)):\n",
    "        print(alpha[w], end=' ')\n",
    "    print()\n",
    "\n",
    "    for x in range(len(g)):\n",
    "        print(x+1, end=' ')\n",
    "        for y in range(len(g[x])):\n",
    "            print(g[x][y], end=\" \")\n",
    "        print()\n",
    "cadrinbr()"
   ]
  },
  {
   "cell_type": "markdown",
   "metadata": {},
   "source": [
    "4. Comment obtenir le contenu de la case « C4 » ? Faire une fonction qui transforme la chaîne passée en\n",
    "paramètre en coordonnées de la case dans la grille (i pour les lignes et j pour les colonnes). Pour la valeur\n",
    "C4, on doit obtenir i=3 et j=2. Tester ensuite votre fonction pour les cases « H7 » et « F6 »."
   ]
  },
  {
   "cell_type": "code",
   "execution_count": null,
   "metadata": {},
   "outputs": [],
   "source": [
    "def getCoordonnees(d):\n",
    "    # cStr=input(\"Entrer une coordonées: \")\n",
    "# i = lignes\n",
    "# j = colonnes\n",
    "    global i,j\n",
    "    i,j=0,0\n",
    "    li=d[0]\n",
    "    lj=d[1]\n",
    "    # print(li,lj)\n",
    "    while li != alpha[i]:\n",
    "        i+=1\n",
    "    if li == alpha[i]:\n",
    "        i-=1\n",
    "        print(i)\n",
    "    while lj != str(j):\n",
    "        j+=1\n",
    "    if lj == str(j):\n",
    "        j-=1\n",
    "        print(j)\n",
    "    global coord\n",
    "    coord=g[j][i]\n",
    "    print(\"La case\",d,\"i =\",j,\"j =\",i,\"contient :\",g[j][i])\n",
    "    return d\n"
   ]
  },
  {
   "cell_type": "markdown",
   "metadata": {},
   "source": [
    "5. Comment noter les cases indiquées par l’adversaire dans la grille, @ quand un bateau est touché et * quand\n",
    "c’est dans l’eau."
   ]
  },
  {
   "cell_type": "code",
   "execution_count": null,
   "metadata": {},
   "outputs": [],
   "source": [
    "# Remplace la valeur de la case par un autre caractère\n",
    "def touchfall():\n",
    "    d=input(\"Entrer une coordonées: \")\n",
    "    getCoordonnees(d)\n",
    "    if coord != '-':    \n",
    "        g[j][i]=\"@\"\n",
    "        cadrinbr()\n",
    "    elif coord =='-':\n",
    "        g[j][i]=\"*\"\n",
    "        cadrinbr()\n",
    "touchfall()"
   ]
  },
  {
   "cell_type": "markdown",
   "metadata": {},
   "source": [
    "6. Faire une boucle dans laquelle on entre une case au clavier, on modifie la grille et on la ré-affiche."
   ]
  },
  {
   "cell_type": "code",
   "execution_count": null,
   "metadata": {},
   "outputs": [],
   "source": [
    "def choix():\n",
    "    # import os\n",
    "    choix1=input(\"Voulez vous choisir une case : \")\n",
    "    if choix1 =='1' or choix1=='oui' or choix1=='Oui' or choix1=='OUI':\n",
    "        choix1=1\n",
    "        touchfall()\n",
    "        return choix()\n",
    "    else:\n",
    "        choix1=0\n",
    "        # os.system('clear') code pour linux pour fichiers python\n",
    "        print(\"Fin du jeu\")\n",
    "\n",
    "choix()"
   ]
  },
  {
   "cell_type": "markdown",
   "metadata": {},
   "source": [
    "7. Comment compter et afficher les coups ?"
   ]
  },
  {
   "cell_type": "code",
   "execution_count": null,
   "metadata": {
    "pycharm": {
     "is_executing": true
    }
   },
   "outputs": [],
   "source": [
    "# compter et afficher les coups \n",
    "def compter():\n",
    "    global cpt\n",
    "    cpt=0\n",
    "    for x in range(len(g)):\n",
    "        for y in range(len(g[x])):\n",
    "            if g[x][y] == '@':\n",
    "                cpt+=1\n",
    "    print(\"Vous avez touché\",cpt,\"fois\")\n",
    "\n",
    "compter()\n",
    "\n"
   ]
  },
  {
   "cell_type": "markdown",
   "metadata": {},
   "source": [
    "8. Comment déterminer quand tous les bateaux sont coulés ?"
   ]
  },
  {
   "cell_type": "code",
   "execution_count": null,
   "metadata": {},
   "outputs": [],
   "source": [
    "def allshfall():\n",
    "    if cpt ==10: \n",
    "        print(\"tout les bateaux on etait couler\")\n",
    "    else :\n",
    "        print(\"il reste\",10-cpt,\"bateau\") \n",
    "choix() \n",
    "compter()\n",
    "allshfall()"
   ]
  },
  {
   "cell_type": "markdown",
   "metadata": {},
   "source": [
    "9. Comment afficher les coups de l’adversaire en couleur dans le terminal (rouge pour « touché » et bleu pour\n",
    "« dans l’eau ») voir par exemple le module termcolor (Si besoin : pip3 install termcolor)."
   ]
  },
  {
   "cell_type": "code",
   "execution_count": null,
   "metadata": {},
   "outputs": [],
   "source": [
    "def couleur():\n",
    "    global touch\n",
    "    import termcolor\n",
    "    d=input(\"Entrer une coordonées: \")\n",
    "    getCoordonnees(d)\n",
    "    if coord != '-'  :\n",
    "        touch=termcolor.colored('@','red')\n",
    "        g[j][i]=touch\n",
    "        cadrinbr()\n",
    "    elif coord == '-' :\n",
    "        miss=termcolor.colored('*','blue')\n",
    "        g[j][i]= miss\n",
    "        cadrinbr()\n",
    "def choixcol():\n",
    "    # import os\n",
    "    choix1=input(\"Voulez vous choisir une case : \")\n",
    "    if choix1 =='1' or choix1=='oui' or choix1=='Oui' or choix1=='OUI':\n",
    "        choix1=1\n",
    "        couleur()\n",
    "        return choixcol()\n",
    "    else:\n",
    "        choix1=0\n",
    "        # os.system('clear') code pour linux pour fichiers python\n",
    "        print(\"Fin du jeu\")\n",
    "\n",
    "def compter2():\n",
    "    global cpt2\n",
    "    cpt2=0\n",
    "    for x in range(len(g)):\n",
    "        for y in range(len(g[x])):\n",
    "            if g[x][y] == touch:\n",
    "                cpt2+=1\n",
    "    print(\"Vous avez touché\",cpt2,\"fois\")\n",
    "\n",
    "def allshfall2():\n",
    "    if cpt2 ==10: \n",
    "        print(\"tout les bateaux on etait couler\")\n",
    "    else :\n",
    "        print(\"il reste\",10-cpt2,\"bateau\")\n",
    "    \n",
    "\n",
    "choixcol()\n",
    "compter2()\n",
    "allshfall2()"
   ]
  },
  {
   "cell_type": "markdown",
   "metadata": {},
   "source": [
    "10. Comment sauvegarder une grille dans un fichier ? Faire une fonction."
   ]
  },
  {
   "cell_type": "code",
   "execution_count": null,
   "metadata": {},
   "outputs": [],
   "source": [
    "def sauvfile():\n",
    "    global d\n",
    "    d=input(\"Entrer le nom du fichier: \")\n",
    "    f1=open(d,'w')\n",
    "    for x in range(len(g)):\n",
    "        for y in range(len(g[x])):\n",
    "            f1.write(g[x][y])\n",
    "        f1.write('\\n')\n",
    "    f1.close()\n",
    "    print(f'sauvegarder effectuer dans {d}') \n",
    "\n",
    "sauvfile()\n"
   ]
  },
  {
   "cell_type": "markdown",
   "metadata": {},
   "source": [
    "11. Comment lire un fichier de sauvegarde ? Faire une fonction."
   ]
  },
  {
   "cell_type": "code",
   "execution_count": null,
   "metadata": {},
   "outputs": [],
   "source": [
    "def lissauv(d):\n",
    "    f2=open(d,'r',encoding='UTF_8')\n",
    "    global x\n",
    "    for x in f2:\n",
    "        print(x, sep=' ', end='')\n",
    "lissauv(d)"
   ]
  },
  {
   "cell_type": "markdown",
   "metadata": {},
   "source": [
    "3.Mise en place des bateaux :\n",
    "Dans cette partie, on désire pouvoir placer les bateaux sur une grille vide.\n",
    "1. Créer une fonction qui fabrique une grille vide."
   ]
  },
  {
   "cell_type": "code",
   "execution_count": null,
   "metadata": {},
   "outputs": [],
   "source": [
    "def gvide():\n",
    "    for x in range(len(g)):\n",
    "        for y in range(len(g[x])):\n",
    "            g[x][y]='-'\n",
    "    # print(g)\n",
    "gvide()\n",
    "cadrinbr()\n"
   ]
  },
  {
   "cell_type": "markdown",
   "metadata": {},
   "source": [
    "2. Comment placer le PORTE_AVION (noté P) de taille 4, en position B2 orienté en vertical pour obtenir la\n",
    "grille de la figure 3 ?"
   ]
  },
  {
   "cell_type": "code",
   "execution_count": null,
   "metadata": {},
   "outputs": [],
   "source": [
    "def placement():\n",
    "    porte_avion=['P','P','P','P']\n",
    "    # placer le porte avion de maniere verticale ou horizontale\n",
    "    vh=input(\"Vertical ou Horizontal: \")\n",
    "    if vh == 'Vertical' or vh == 'vertical' or vh == 'VERTICAL':\n",
    "        vh=1\n",
    "    elif vh== 'Horizontal' or vh == 'horizontal' or vh == 'HORIZONTAL':\n",
    "        vh=2\n",
    "    \n",
    "    if vh == 1:\n",
    "        d=input(\"Entrer une coordonées: \")\n",
    "        getCoordonnees(d)\n",
    "        for x in range(len(porte_avion)):\n",
    "            g[j+x][i]=porte_avion[x]\n",
    "        cadrinbr()\n",
    "    else :\n",
    "        d=input(\"Entrer une coordonées: \")\n",
    "        for x in range(len(porte_avion)):\n",
    "            g[j][i+x]=porte_avion[x]\n",
    "        cadrinbr() \n",
    "    # cadrinbr()\n",
    "placement()\n",
    "\n",
    "#ce programme repond a la question 3.3 et 3.4 pour exclusivement porte avion"
   ]
  },
  {
   "cell_type": "markdown",
   "metadata": {},
   "source": [
    "4. Créer alors 2 fonctions (placeBateauHorizontal()  et  placeBateauVertical()) pour\n",
    "placer des bateaux sur une grille à partir de la position souhaitée, de la lettre représentant le bateau et de sa\n",
    "taille."
   ]
  },
  {
   "cell_type": "code",
   "execution_count": null,
   "metadata": {},
   "outputs": [],
   "source": [
    "def placeBateauHorzouverti():\n",
    "    \n",
    "    # Liste des bateaux\n",
    "    global porte_avion\n",
    "    global croiseurs\n",
    "    global torpilleurs\n",
    "    global sous_marins\n",
    "    porte_avion=['P','P','P','P']\n",
    "    croiseurs=['C','C','C']\n",
    "    torpilleurs=['T','T']\n",
    "    sous_marins=['S']\n",
    "    \n",
    "    # Choix des bateaux\n",
    "    global bateau\n",
    "    bateau=input(\"Entrer le nom du bateau: \")\n",
    "    if bateau == 'porte_avion' or bateau == 'Porte_avion' or bateau == 'PORTE_AVION':\n",
    "        bateau=porte_avion\n",
    "    elif bateau == 'croiseurs' or bateau == 'Croiseurs' or bateau == 'CROISEURS':\n",
    "        bateau=croiseurs\n",
    "    elif bateau == 'torpilleurs' or bateau == 'Torpilleurs' or bateau == 'TORPILLEURS':\n",
    "        bateau=torpilleurs\n",
    "    elif bateau == 'sous_marins' or bateau == 'Sous_marins' or bateau == 'SOUS_MARINS':\n",
    "        bateau=sous_marins\n",
    "        \n",
    "    # Choix de la position\n",
    "    vh=input(\"Vertical ou Horizontal: \")\n",
    "    if vh == 'Vertical' or vh == 'vertical' or vh == 'VERTICAL':\n",
    "        vh=1\n",
    "    elif vh== 'Horizontal' or vh == 'horizontal' or vh == 'HORIZONTAL':\n",
    "        vh=2\n",
    "    \n",
    "    # Placement du bateau\n",
    "    if vh == 1:\n",
    "        d=input(\"Entrer une coordonées: \")\n",
    "        getCoordonnees(d)\n",
    "        global x\n",
    "        for x in range(len(bateau)):\n",
    "            g[j+x][i]=bateau[x]\n",
    "        if (j+x) > len(bateau):\n",
    "            print(\"Erreur de placement\")\n",
    "        x=0\n",
    "        cadrinbr()\n",
    "    else :\n",
    "        d=input(\"Entrer une coordonées: \")\n",
    "        getCoordonnees(d)\n",
    "        global x\n",
    "        for x in range(len(bateau)):\n",
    "            g[j][i+x]=bateau[x]\n",
    "        if (i+x) > len(bateau):\n",
    "            print(\"Erreur de placement\")\n",
    "        cadrinbr() \n",
    "\n",
    "# appel de la fonction \n",
    "placeBateauHorzouverti()"
   ]
  },
  {
   "cell_type": "markdown",
   "metadata": {},
   "source": [
    "5. Si au lieu de placer le  PORTE_AVION en B2, on choisit la case H6. Pourquoi ne peut-on pas placer le \n",
    "bateau en horizontal ou en vertical ? Quel test faut-il faire ? Créer alors les fonctions \n",
    "verifHorizontal(grille,pos,taille) et verifVertical(grille,pos,taille).\n"
   ]
  },
  {
   "cell_type": "code",
   "execution_count": null,
   "metadata": {},
   "outputs": [],
   "source": [
    "def verifhorzetvert():\n",
    "        if j+(len(bateau)) > 8:\n",
    "            print(\"Erreur de placement\")\n",
    "            placeBateauHorzouverti()\n",
    "        else :\n",
    "            if i+(len(bateau)) > 8:\n",
    "                print(\"Erreur de placement\")\n",
    "                placeBateauHorzouverti()\n",
    "\n",
    "verifhorzetvert()"
   ]
  },
  {
   "cell_type": "code",
   "execution_count": null,
   "metadata": {},
   "outputs": [],
   "source": [
    "gvide()\n",
    "cadrinbr()\n",
    "placeBateauHorzouverti()"
   ]
  }
 ],
 "metadata": {
  "kernelspec": {
   "display_name": "Python 3.10.6 64-bit",
   "language": "python",
   "name": "python3"
  },
  "language_info": {
   "codemirror_mode": {
    "name": "ipython",
    "version": 3
   },
   "file_extension": ".py",
   "mimetype": "text/x-python",
   "name": "python",
   "nbconvert_exporter": "python",
   "pygments_lexer": "ipython3",
   "version": "3.10.6"
  },
  "orig_nbformat": 4,
  "vscode": {
   "interpreter": {
    "hash": "916dbcbb3f70747c44a77c7bcd40155683ae19c65e1c03b4aa3499c5328201f1"
   }
  }
 },
 "nbformat": 4,
 "nbformat_minor": 2
}
