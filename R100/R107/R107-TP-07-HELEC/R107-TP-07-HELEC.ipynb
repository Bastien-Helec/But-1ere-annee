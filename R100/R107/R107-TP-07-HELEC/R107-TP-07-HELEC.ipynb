{
 "cells": [
  {
   "cell_type": "markdown",
   "metadata": {},
   "source": [
    "### Ce TP a etait realisé par ©HelecBastien tout utilisation sans indication de source est prohibé\n",
    "---\n",
    "\n",
    "### TP7 \n",
    "\n",
    "1. Introduction sur les images :Le module PIL (Python Image Library) permet de manipuler des images.1.Pour créer une image grise de 10x8 pixels dans le fichier img.png, on peut écrire:"
   ]
  },
  {
   "cell_type": "code",
   "execution_count": 70,
   "metadata": {},
   "outputs": [],
   "source": [
    "def creation_image():\n",
    "    from PIL import Image\n",
    "\n",
    "    img=Image.new(mode=\"RGB\", size=(10,8) ,color=\"silver\")\n",
    "\n",
    "    img.save('img.png')\n",
    "creation_image()"
   ]
  },
  {
   "cell_type": "markdown",
   "metadata": {},
   "source": [
    "2. On peut ensuite dessiner un rectangle noir dont le point en haut à gauche est en position 3,2 et le point en bas à droite en 8,6 avec la méthode ImageDraw.rectangle(xy,fill=None,outline=None,width=1):"
   ]
  },
  {
   "cell_type": "code",
   "execution_count": 55,
   "metadata": {},
   "outputs": [],
   "source": [
    "from PIL import Image,ImageDraw\n",
    "img=Image.new('RGB',(10,8),color='silver')\n",
    "imgDraw=ImageDraw.Draw(img) \n",
    "#Objet permettant de dessiner dans l’image\n",
    "imgDraw.rectangle((3,2,8,6),fill='black',outline='white')\n",
    "img.save('img.png')"
   ]
  },
  {
   "cell_type": "markdown",
   "metadata": {},
   "source": [
    "3. On peut récupérer la taille de l’image et la liste des pixels de la façon suivante:"
   ]
  },
  {
   "cell_type": "code",
   "execution_count": 3,
   "metadata": {},
   "outputs": [
    {
     "name": "stdout",
     "output_type": "stream",
     "text": [
      "Taille: 10x8 pixels\n",
      "*** Ligne 0 ***\n",
      "(192, 192, 192)\n",
      "(192, 192, 192)\n",
      "(192, 192, 192)\n",
      "(192, 192, 192)\n",
      "(192, 192, 192)\n",
      "(192, 192, 192)\n",
      "(192, 192, 192)\n",
      "(192, 192, 192)\n",
      "(192, 192, 192)\n",
      "(192, 192, 192)\n",
      "*** Ligne 1 ***\n",
      "(192, 192, 192)\n",
      "(192, 192, 192)\n",
      "(192, 192, 192)\n",
      "(192, 192, 192)\n",
      "(192, 192, 192)\n",
      "(192, 192, 192)\n",
      "(192, 192, 192)\n",
      "(192, 192, 192)\n",
      "(192, 192, 192)\n",
      "(192, 192, 192)\n",
      "*** Ligne 2 ***\n",
      "(192, 192, 192)\n",
      "(192, 192, 192)\n",
      "(192, 192, 192)\n",
      "(255, 255, 255)\n",
      "(255, 255, 255)\n",
      "(255, 255, 255)\n",
      "(255, 255, 255)\n",
      "(255, 255, 255)\n",
      "(255, 255, 255)\n",
      "(192, 192, 192)\n",
      "*** Ligne 3 ***\n",
      "(192, 192, 192)\n",
      "(192, 192, 192)\n",
      "(192, 192, 192)\n",
      "(255, 255, 255)\n",
      "(0, 0, 0)\n",
      "(0, 0, 0)\n",
      "(0, 0, 0)\n",
      "(0, 0, 0)\n",
      "(255, 255, 255)\n",
      "(192, 192, 192)\n",
      "*** Ligne 4 ***\n",
      "(192, 192, 192)\n",
      "(192, 192, 192)\n",
      "(192, 192, 192)\n",
      "(255, 255, 255)\n",
      "(0, 0, 0)\n",
      "(0, 0, 0)\n",
      "(0, 0, 0)\n",
      "(0, 0, 0)\n",
      "(255, 255, 255)\n",
      "(192, 192, 192)\n",
      "*** Ligne 5 ***\n",
      "(192, 192, 192)\n",
      "(192, 192, 192)\n",
      "(192, 192, 192)\n",
      "(255, 255, 255)\n",
      "(0, 0, 0)\n",
      "(0, 0, 0)\n",
      "(0, 0, 0)\n",
      "(0, 0, 0)\n",
      "(255, 255, 255)\n",
      "(192, 192, 192)\n",
      "*** Ligne 6 ***\n",
      "(192, 192, 192)\n",
      "(192, 192, 192)\n",
      "(192, 192, 192)\n",
      "(255, 255, 255)\n",
      "(255, 255, 255)\n",
      "(255, 255, 255)\n",
      "(255, 255, 255)\n",
      "(255, 255, 255)\n",
      "(255, 255, 255)\n",
      "(192, 192, 192)\n",
      "*** Ligne 7 ***\n",
      "(192, 192, 192)\n",
      "(192, 192, 192)\n",
      "(192, 192, 192)\n",
      "(192, 192, 192)\n",
      "(192, 192, 192)\n",
      "(192, 192, 192)\n",
      "(192, 192, 192)\n",
      "(192, 192, 192)\n",
      "(192, 192, 192)\n",
      "(192, 192, 192)\n"
     ]
    }
   ],
   "source": [
    "w,h=img.size\n",
    "print(f'Taille: {w}x{h} pixels')\n",
    "pixels=img.load()\n",
    "for y in range(h):  \n",
    "    print('*** Ligne',y,'***')\n",
    "    for x in range(w):    \n",
    "        print(pixels[x,y])"
   ]
  },
  {
   "cell_type": "markdown",
   "metadata": {},
   "source": [
    "4. Vérifier qu’un pixel est bien composé de 3 valeurs (de 0 à 255) représentant respectivement les couleurs Rouge, Vert et Bleu. Comment sont codés le gris, le noir et le blanc? Vérifier le schéma du §1.2."
   ]
  },
  {
   "cell_type": "code",
   "execution_count": 19,
   "metadata": {},
   "outputs": [
    {
     "name": "stdout",
     "output_type": "stream",
     "text": [
      "blanc : (255, 255, 255)\n",
      "noir : (0, 0, 0)\n",
      "gris : (192, 192, 192)\n"
     ]
    }
   ],
   "source": [
    "#verifier la composition d'un pixel sur l'image en fonction des coordonées et renvoyer la valeur du pixel en RGB\n",
    "def getPixel(img,x,y):\n",
    "    w,h=img.size\n",
    "    if x<0 or x>=w or y<0 or y>=h:\n",
    "        return img.load()[x,y]\n",
    "print(\"blanc :\",getPixel(img,3,2))\n",
    "print(\"noir :\",getPixel(img,4,3))\n",
    "print(\"gris :\",getPixel(img,0,0))"
   ]
  },
  {
   "cell_type": "markdown",
   "metadata": {},
   "source": [
    "5. Quelles sont, en pixels, la largeur et la hauteur du rectangle (blanc)? Faire le lien avec les valeurs données pour la création du rectangle.\n",
    "\n",
    "6 de largeur et 5 de hauteur pour le carré blanc"
   ]
  },
  {
   "cell_type": "markdown",
   "metadata": {},
   "source": [
    "6. Créer alors la fonction drawRectangle(imgDraw,x0,y0,w,h,fill=None,outline=None) \n",
    "qui permette de faciliter le dessin d’un rectangle dans une image à partir des coordonnées du point en haut à gauche, de la largeur et de la hauteur.NB: La fonction ne fait que dessiner un rectangle dans l’image fournie et ne comporte qu’une seule ligne!"
   ]
  },
  {
   "cell_type": "code",
   "execution_count": 62,
   "metadata": {},
   "outputs": [],
   "source": [
    "#creation d'un rectangle en fonction de x0 et y0 et egal a 0,0 la largeur et la hauteur\n",
    "def drawRectangle(img,x0,y0,w,h,color):\n",
    "    imgDraw=ImageDraw.Draw(img)\n",
    "    imgDraw.rectangle((x0,y0,x0+w,y0+h),fill=color,outline=None)\n",
    "    img.save('carré2.png')\n",
    "drawRectangle(img,0,0,10,8,'white')"
   ]
  },
  {
   "cell_type": "markdown",
   "metadata": {},
   "source": [
    "7. Ajouter un second rectangle rouge sans contours (couleur 'red') de largeur 3 et de hauteur 2 pixels en position 4,3."
   ]
  },
  {
   "cell_type": "code",
   "execution_count": 63,
   "metadata": {},
   "outputs": [],
   "source": [
    "drawRectangle(img,4,3,3,2,'red')"
   ]
  },
  {
   "cell_type": "markdown",
   "metadata": {},
   "source": [
    "8. On veut maintenant détecter uniquement les «niveaux de gris» de l’image en réalisant le calcul de luminancede la norme IUT-R-601: Y=0.299*R+0.587*G+0.114*B. Créer une fonction qui réalise ce calcul et quiaffiche la valeur de Y pour chaque pixel."
   ]
  },
  {
   "cell_type": "code",
   "execution_count": 64,
   "metadata": {},
   "outputs": [
    {
     "name": "stdout",
     "output_type": "stream",
     "text": [
      "(0,0) : 255.0\n",
      "(1,0) : 255.0\n",
      "(2,0) : 255.0\n",
      "(3,0) : 255.0\n",
      "(4,0) : 255.0\n",
      "(5,0) : 255.0\n",
      "(6,0) : 255.0\n",
      "(7,0) : 255.0\n",
      "(8,0) : 255.0\n",
      "(9,0) : 255.0\n",
      "(0,1) : 255.0\n",
      "(1,1) : 255.0\n",
      "(2,1) : 255.0\n",
      "(3,1) : 255.0\n",
      "(4,1) : 255.0\n",
      "(5,1) : 255.0\n",
      "(6,1) : 255.0\n",
      "(7,1) : 255.0\n",
      "(8,1) : 255.0\n",
      "(9,1) : 255.0\n",
      "(0,2) : 255.0\n",
      "(1,2) : 255.0\n",
      "(2,2) : 255.0\n",
      "(3,2) : 255.0\n",
      "(4,2) : 255.0\n",
      "(5,2) : 255.0\n",
      "(6,2) : 255.0\n",
      "(7,2) : 255.0\n",
      "(8,2) : 255.0\n",
      "(9,2) : 255.0\n",
      "(0,3) : 255.0\n",
      "(1,3) : 255.0\n",
      "(2,3) : 255.0\n",
      "(3,3) : 255.0\n",
      "(4,3) : 76.24499999999999\n",
      "(5,3) : 76.24499999999999\n",
      "(6,3) : 76.24499999999999\n",
      "(7,3) : 76.24499999999999\n",
      "(8,3) : 255.0\n",
      "(9,3) : 255.0\n",
      "(0,4) : 255.0\n",
      "(1,4) : 255.0\n",
      "(2,4) : 255.0\n",
      "(3,4) : 255.0\n",
      "(4,4) : 76.24499999999999\n",
      "(5,4) : 76.24499999999999\n",
      "(6,4) : 76.24499999999999\n",
      "(7,4) : 76.24499999999999\n",
      "(8,4) : 255.0\n",
      "(9,4) : 255.0\n",
      "(0,5) : 255.0\n",
      "(1,5) : 255.0\n",
      "(2,5) : 255.0\n",
      "(3,5) : 255.0\n",
      "(4,5) : 76.24499999999999\n",
      "(5,5) : 76.24499999999999\n",
      "(6,5) : 76.24499999999999\n",
      "(7,5) : 76.24499999999999\n",
      "(8,5) : 255.0\n",
      "(9,5) : 255.0\n",
      "(0,6) : 255.0\n",
      "(1,6) : 255.0\n",
      "(2,6) : 255.0\n",
      "(3,6) : 255.0\n",
      "(4,6) : 255.0\n",
      "(5,6) : 255.0\n",
      "(6,6) : 255.0\n",
      "(7,6) : 255.0\n",
      "(8,6) : 255.0\n",
      "(9,6) : 255.0\n",
      "(0,7) : 255.0\n",
      "(1,7) : 255.0\n",
      "(2,7) : 255.0\n",
      "(3,7) : 255.0\n",
      "(4,7) : 255.0\n",
      "(5,7) : 255.0\n",
      "(6,7) : 255.0\n",
      "(7,7) : 255.0\n",
      "(8,7) : 255.0\n",
      "(9,7) : 255.0\n"
     ]
    }
   ],
   "source": [
    "#fonction qui calcule les niveaux de gris en realisant le calcul de luminance de la norme IUT-R-601 pour chaque pixel et qui affiche la valeur de Y \n",
    "def luminance(img):\n",
    "    w,h=img.size\n",
    "    pixels=img.load()\n",
    "    for y in range(h):\n",
    "        for x in range(w):\n",
    "            r,g,b=pixels[x,y]\n",
    "            Y=0.299*r+0.587*g+0.114*b\n",
    "            print(f'({x},{y}) : {Y}')\n",
    "luminance(img)\n"
   ]
  },
  {
   "cell_type": "markdown",
   "metadata": {},
   "source": [
    "9. Comment trouver les pixels blancs ou noirs uniquement (et pas ceux qui sont gris ou rouge)?"
   ]
  },
  {
   "cell_type": "code",
   "execution_count": 67,
   "metadata": {},
   "outputs": [
    {
     "name": "stdout",
     "output_type": "stream",
     "text": [
      "(0,0)\n",
      "(1,0)\n",
      "(2,0)\n",
      "(3,0)\n",
      "(4,0)\n",
      "(5,0)\n",
      "(6,0)\n",
      "(7,0)\n",
      "(8,0)\n",
      "(9,0)\n",
      "(0,1)\n",
      "(1,1)\n",
      "(2,1)\n",
      "(3,1)\n",
      "(4,1)\n",
      "(5,1)\n",
      "(6,1)\n",
      "(7,1)\n",
      "(8,1)\n",
      "(9,1)\n",
      "(0,2)\n",
      "(1,2)\n",
      "(2,2)\n",
      "(3,2)\n",
      "(4,2)\n",
      "(5,2)\n",
      "(6,2)\n",
      "(7,2)\n",
      "(8,2)\n",
      "(9,2)\n",
      "(0,3)\n",
      "(1,3)\n",
      "(2,3)\n",
      "(3,3)\n",
      "(8,3)\n",
      "(9,3)\n",
      "(0,4)\n",
      "(1,4)\n",
      "(2,4)\n",
      "(3,4)\n",
      "(8,4)\n",
      "(9,4)\n",
      "(0,5)\n",
      "(1,5)\n",
      "(2,5)\n",
      "(3,5)\n",
      "(8,5)\n",
      "(9,5)\n",
      "(0,6)\n",
      "(1,6)\n",
      "(2,6)\n",
      "(3,6)\n",
      "(4,6)\n",
      "(5,6)\n",
      "(6,6)\n",
      "(7,6)\n",
      "(8,6)\n",
      "(9,6)\n",
      "(0,7)\n",
      "(1,7)\n",
      "(2,7)\n",
      "(3,7)\n",
      "(4,7)\n",
      "(5,7)\n",
      "(6,7)\n",
      "(7,7)\n",
      "(8,7)\n",
      "(9,7)\n"
     ]
    }
   ],
   "source": [
    "#trouver les pixels blancs ou noirs uniquement\n",
    "def findPixels(img,color):\n",
    "    w,h=img.size\n",
    "    pixels=img.load()\n",
    "    for y in range(h):\n",
    "        for x in range(w):\n",
    "            if pixels[x,y]==color:\n",
    "                print(f'({x},{y})')\n",
    "findPixels(img,(255,255,255))\n",
    "findPixels(img,(0,0,0))"
   ]
  },
  {
   "cell_type": "markdown",
   "metadata": {},
   "source": [
    "2. Fabrication d'images \n",
    "\n",
    "Utiliser la fonction drawRectangle(), que l’on aura défini dans le module imgUtils, pour fabriquer les imagessuivantes.       Voir       l’outil       «Sélecteur       de       couleurs»       de       Geany       et\n",
    "https://pillow.readthedocs.io/en/stable/reference/ImageColor.html#color-names"
   ]
  },
  {
   "cell_type": "markdown",
   "metadata": {},
   "source": [
    "1. Avec une boucle, à partir des couleurs suivantes: 'Aqua','DarkOrchid','Gold','Lime','Red'"
   ]
  },
  {
   "cell_type": "code",
   "execution_count": 88,
   "metadata": {},
   "outputs": [],
   "source": [
    "#fonction qui creer plusieurs rectangles en diagonale sans se superposer du nombre de couleurs avec imgUtils\n",
    "def creation_image():\n",
    "    from PIL import Image\n",
    "    global img\n",
    "    img=Image.new(mode=\"RGB\", size=(10,8) ,color=\"silver\")\n",
    "\n",
    "    img.save('img.png')\n",
    "creation_image()\n",
    "\n",
    "def rectangle1():\n",
    "    color=['Aqua','DarkOrchid','Gold','Lime','Red']\n",
    "    x=0\n",
    "    y=0\n",
    "    for i in color:\n",
    "        drawRectangle(img,x,y,0.5,0.5,i)\n",
    "        x+=1\n",
    "        y+=1\n",
    "rectangle1()"
   ]
  },
  {
   "cell_type": "markdown",
   "metadata": {},
   "source": [
    "2. En faisant varier la partie «rouge» de 0 à 255 par pas de 20 (remplacer red par un nombre dans l’exemple ci-dessous) des couleurs avec la fonction rgb() du module ImageColor: color=ImageColor.getrgb('rgb(red,150,250)')"
   ]
  },
  {
   "cell_type": "code",
   "execution_count": 92,
   "metadata": {},
   "outputs": [],
   "source": [
    "#creer des lignes horizontales avec pour but d'afficher un degrader de rouge en faisant varier la valeur de R par pas\n",
    "def degrader():\n",
    "    for x in range(10):\n",
    "        drawRectangle(img,x,0,1,8,(x*25,0,0))\n",
    "degrader()"
   ]
  }
 ],
 "metadata": {
  "kernelspec": {
   "display_name": "Python 3.10.6 64-bit",
   "language": "python",
   "name": "python3"
  },
  "language_info": {
   "codemirror_mode": {
    "name": "ipython",
    "version": 3
   },
   "file_extension": ".py",
   "mimetype": "text/x-python",
   "name": "python",
   "nbconvert_exporter": "python",
   "pygments_lexer": "ipython3",
   "version": "3.10.6"
  },
  "orig_nbformat": 4,
  "vscode": {
   "interpreter": {
    "hash": "916dbcbb3f70747c44a77c7bcd40155683ae19c65e1c03b4aa3499c5328201f1"
   }
  }
 },
 "nbformat": 4,
 "nbformat_minor": 2
}
