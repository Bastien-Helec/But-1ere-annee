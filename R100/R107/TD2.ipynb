{
 "cells": [
  {
   "cell_type": "markdown",
   "metadata": {},
   "source": [
    "### Ce TD a etait realisé par ©HelecBastien tout utilisation sans indication de source est prohibé\n",
    "---"
   ]
  },
  {
   "cell_type": "markdown",
   "metadata": {},
   "source": [
    "## 1. Boucles :Les boucles permettent de répéter plusieurs fois une suite d'instructions donnée. En python, on a 2 mots clé pour effectuer des boucles : while et for"
   ]
  },
  {
   "cell_type": "markdown",
   "metadata": {},
   "source": [
    "### 1. Écrire le programme boucle1.py qui affiche les nombres de 0 à 20 en avançant de 2 en 2 (avec 1 boucle while)."
   ]
  },
  {
   "cell_type": "code",
   "execution_count": 42,
   "metadata": {},
   "outputs": [
    {
     "name": "stdout",
     "output_type": "stream",
     "text": [
      "0\n",
      "2\n",
      "4\n",
      "6\n",
      "8\n",
      "10\n",
      "12\n",
      "14\n",
      "16\n",
      "18\n",
      "20\n"
     ]
    },
    {
     "data": {
      "text/plain": [
       "'fin'"
      ]
     },
     "execution_count": 42,
     "metadata": {},
     "output_type": "execute_result"
    }
   ],
   "source": [
    "# Assignation de la fonction boucle1 \n",
    "def boucle1():\n",
    "\n",
    "    # assignation de la valeur x a 0\n",
    "    x=0\n",
    "\n",
    "    #tant que x est inferieur ou egal a 20 alors :\n",
    "    while x <= 20:\n",
    "\n",
    "        #afficher x\n",
    "        print(x)\n",
    "\n",
    "        #incrementation de x de 2\n",
    "        x+=2\n",
    "    \n",
    "    #fini avec fin \n",
    "    return 'fin'\n",
    "\n",
    "#appel de la fonction boucle1\n",
    "boucle1()"
   ]
  },
  {
   "cell_type": "markdown",
   "metadata": {},
   "source": [
    "### 2. Écrire le programme boucle2.py qui affiche les nombres de 30 à 12 en reculant de 3 en 3 (avec 1 boucle for)."
   ]
  },
  {
   "cell_type": "code",
   "execution_count": 43,
   "metadata": {},
   "outputs": [
    {
     "name": "stdout",
     "output_type": "stream",
     "text": [
      "30\n",
      "27\n",
      "24\n",
      "21\n",
      "18\n",
      "15\n",
      "12\n"
     ]
    },
    {
     "data": {
      "text/plain": [
       "'fin'"
      ]
     },
     "execution_count": 43,
     "metadata": {},
     "output_type": "execute_result"
    }
   ],
   "source": [
    "# assignation de la fonction boucle2\n",
    "def boucle2(): \n",
    "\n",
    "    #pour x dans l'intervalle 30 a 12 avec un pas de -3\n",
    "    for x in range(30,11,-3):\n",
    "\n",
    "        #afficher x\n",
    "        print(x)\n",
    "    \n",
    "    #fini le programme avec 'fin'\n",
    "    return 'fin'\n",
    "\n",
    "#appel de la fonction boucle2()\n",
    "boucle2()\n"
   ]
  },
  {
   "cell_type": "markdown",
   "metadata": {},
   "source": [
    "### 3.Écrire le programme boucle3.py qui affiche (avec 2 boucles) :\n",
    "0|1\n",
    "-|-\n",
    "0|0\n",
    "1|0\n",
    "1|1\n",
    "2|0\n",
    "2|1"
   ]
  },
  {
   "cell_type": "code",
   "execution_count": 44,
   "metadata": {},
   "outputs": [
    {
     "name": "stdout",
     "output_type": "stream",
     "text": [
      "0 0\n",
      "0 1\n",
      "1 0\n",
      "1 1\n",
      "2 0\n",
      "2 1\n"
     ]
    },
    {
     "data": {
      "text/plain": [
       "'fin'"
      ]
     },
     "execution_count": 44,
     "metadata": {},
     "output_type": "execute_result"
    }
   ],
   "source": [
    "# Fonction boucle3 \n",
    "def boucle3():\n",
    "\n",
    "    #pour i dans l'intervalle (0 a 2):\n",
    "    for i in range(3):\n",
    "\n",
    "        #pour j dans l'intervalle (0 a 1)\n",
    "        for j in range(2):\n",
    "\n",
    "            #affichage de la boucle a chaque boucle de i a j (affiche d'abord le premier etat de i puis le 2eme etc ...) puis j de la meme manière\n",
    "            print(i,j)\n",
    "    #affiche fin a la fin du programme\n",
    "    return 'fin'\n",
    "\n",
    "#appel de la fonction boucle3\n",
    "boucle3()"
   ]
  },
  {
   "cell_type": "markdown",
   "metadata": {},
   "source": [
    "### 4.Écrire le programme boucle4.py qui affiche (avec 2 boucles) :\n",
    "0|||||\n",
    "-|-|-|-|-|\n",
    "0|1|||||\n",
    "0|1|2||||\n",
    "0|1|2|3|||\n",
    "0|1|2|3|4|\n",
    "\n",
    "NB : On pourra utiliser l’argument end de la fonction print()"
   ]
  },
  {
   "cell_type": "code",
   "execution_count": 45,
   "metadata": {},
   "outputs": [
    {
     "name": "stdout",
     "output_type": "stream",
     "text": [
      "0 \n",
      "0 1 \n",
      "0 1 2 \n",
      "0 1 2 3 \n",
      "0 1 2 3 4 \n"
     ]
    }
   ],
   "source": [
    "#fonction boucle4\n",
    "def boucle4():\n",
    "\n",
    "    #pour x dans l'intervalle (0 a 4)\n",
    "    for x in range(5):\n",
    "\n",
    "        #pour y dans l'intervalle (x +1) autrement dis y a une incrementation de 1 a chaque boucle\n",
    "        for y in range(x+1):\n",
    "\n",
    "            #affiche  y avec une fin sans retour a la ligne\n",
    "            print(y, end=\" \")\n",
    "        \n",
    "        #affiche la suite de la boucle avec un retour a la ligne\n",
    "        print()\n",
    "\n",
    "#appel de la fonction boucle4()\n",
    "boucle4()"
   ]
  },
  {
   "cell_type": "markdown",
   "metadata": {},
   "source": [
    "## 2. Listes de valeurs : En python (voir diapos de 30 à 34/68), on peut créer des séquences de valeurs modifiables (les listes) entre les caractères [ et ]. Par exemple, r=[5,9,7,3,15,8]. On peut obtenir une valeur de la liste en précisant entre crochets, le décalage par rapport au début, donc r[2] donne 7 et r[0] correspond à 5."
   ]
  },
  {
   "cell_type": "markdown",
   "metadata": {},
   "source": [
    "### 1. Comment afficher les valeurs de la liste avec une boucle for ?"
   ]
  },
  {
   "cell_type": "code",
   "execution_count": 46,
   "metadata": {},
   "outputs": [
    {
     "name": "stdout",
     "output_type": "stream",
     "text": [
      "5 9 7 3 15 8 "
     ]
    }
   ],
   "source": [
    "#assigne la fonction bouclefor\n",
    "def bouclefor():\n",
    "\n",
    "    #assignation de r en global (peut etre utilisé das d'autre fonction)\n",
    "    global r\n",
    "    \n",
    "    #liste r\n",
    "    r=[5,9,7,3,15,8]\n",
    "\n",
    "    #pour x dans la variable r\n",
    "    for x in r:\n",
    "\n",
    "        #affiche x avec un non retour a la ligne\n",
    "        print(x ,end=\" \")\n",
    "    \n",
    "#appel de la fonction bouclefor()\n",
    "bouclefor()"
   ]
  },
  {
   "cell_type": "markdown",
   "metadata": {},
   "source": [
    "### 2. Comment calculer la somme des valeurs ?"
   ]
  },
  {
   "cell_type": "code",
   "execution_count": 47,
   "metadata": {},
   "outputs": [
    {
     "name": "stdout",
     "output_type": "stream",
     "text": [
      "47\n"
     ]
    }
   ],
   "source": [
    "#assignation de la fonction somme()\n",
    "def somme():\n",
    "\n",
    "    #assignation de s=0\n",
    "    s=0\n",
    "\n",
    "    #pour x dans r \n",
    "    for x in r :\n",
    "\n",
    "        #incrementation de s avec la valeur de r\n",
    "        s+=x\n",
    "    #affiche la valeur de s a l'exterieur de la boucle\n",
    "    print(s)\n",
    "\n",
    "#appel de la fonction somme\n",
    "somme()"
   ]
  },
  {
   "cell_type": "markdown",
   "metadata": {},
   "source": [
    "### 3. Comment ajouter la valeur 4 à la fin de la liste à l’aide de la méthode append() ?"
   ]
  },
  {
   "cell_type": "code",
   "execution_count": 48,
   "metadata": {},
   "outputs": [
    {
     "name": "stdout",
     "output_type": "stream",
     "text": [
      "[5, 9, 7, 3, 15, 8, 4]\n"
     ]
    }
   ],
   "source": [
    "#assignation de la fonction ajout\n",
    "def ajout():\n",
    "\n",
    "    #ajout de 4 a la variable r\n",
    "    r.append(4)\n",
    "\n",
    "    #affiche r\n",
    "    print(r)\n",
    "\n",
    "#appel de la fonction ajout()\n",
    "ajout()"
   ]
  },
  {
   "cell_type": "markdown",
   "metadata": {},
   "source": [
    "### 4. Comment vérifier que la longueur de la liste a bien changé avec la fonction len() ?"
   ]
  },
  {
   "cell_type": "code",
   "execution_count": 49,
   "metadata": {},
   "outputs": [
    {
     "name": "stdout",
     "output_type": "stream",
     "text": [
      "7\n"
     ]
    }
   ],
   "source": [
    "#assignation de longueur \n",
    "def longueur():\n",
    "    \n",
    "    # afficher la longueur de r\n",
    "    print(len(r))\n",
    "\n",
    "# appel de la fonction longueur\n",
    "longueur()"
   ]
  },
  {
   "cell_type": "markdown",
   "metadata": {},
   "source": [
    "### 5. Comment mettre à zéro les multiples de 3 ?"
   ]
  },
  {
   "cell_type": "code",
   "execution_count": null,
   "metadata": {},
   "outputs": [],
   "source": [
    "#assignation de la fonction zmtpt\n",
    "def zmtpt():\n",
    "\n",
    "    #variable i=0\n",
    "    i=0\n",
    "    \n",
    "    # pour x dans r \n",
    "    for x in r:\n",
    "\n",
    "        # si le reste  de la division par 3 est egal a 0 alors \n",
    "        if x%3==0 : \n",
    "\n",
    "            #assignation de la valeur r a la poisition i a 0\n",
    "            r[i]=0\n",
    "\n",
    "        #incrementation de 1 a i\n",
    "        i+=1\n",
    "    \n",
    "    #affiche r\n",
    "    print(r)\n",
    "\n",
    "#appel de la fonction zmtpt\n",
    "zmtpt()"
   ]
  },
  {
   "cell_type": "markdown",
   "metadata": {},
   "source": [
    "## 3. Chaînes de caractères :\n",
    "### En python (voir diapos de 19 à 21/68), les chaînes sont des séquences de valeurs non modifiables. On peut utiliser la syntaxe s[i:j:k] qui correspond aux éléments de i à j exclus par pas de k."
   ]
  },
  {
   "cell_type": "markdown",
   "metadata": {},
   "source": [
    "### 1. Comment écrire une lettre sur deux avec la chaîne 'message secret' ?"
   ]
  },
  {
   "cell_type": "code",
   "execution_count": null,
   "metadata": {},
   "outputs": [],
   "source": []
  }
 ],
 "metadata": {
  "kernelspec": {
   "display_name": "Python 3.10.4 64-bit",
   "language": "python",
   "name": "python3"
  },
  "language_info": {
   "codemirror_mode": {
    "name": "ipython",
    "version": 3
   },
   "file_extension": ".py",
   "mimetype": "text/x-python",
   "name": "python",
   "nbconvert_exporter": "python",
   "pygments_lexer": "ipython3",
   "version": "3.10.4"
  },
  "orig_nbformat": 4,
  "vscode": {
   "interpreter": {
    "hash": "31f2aee4e71d21fbe5cf8b01ff0e069b9275f58929596ceb00d14d90e3e16cd6"
   }
  }
 },
 "nbformat": 4,
 "nbformat_minor": 2
}
