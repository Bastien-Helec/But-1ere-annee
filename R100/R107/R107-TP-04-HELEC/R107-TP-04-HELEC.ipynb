{
 "cells": [
  {
   "cell_type": "markdown",
   "metadata": {},
   "source": [
    "### Ce TP a etait realisé par ©HelecBastien tout utilisation sans indication de source est prohibé\n",
    "---\n",
    "## Mini-projet : un peu de cryptographie ?\n",
    "\n",
    "### Partie 1 : révision flash l’objectif de cette partie est de vous assurer que vous avez bien acquis les concepts élémentaires de l’algorithmique et du langage Python"
   ]
  },
  {
   "cell_type": "markdown",
   "metadata": {},
   "source": [
    "1- Soient les deux variables suivantes :\n",
    "a=123\n",
    "b=’123’\n",
    "Quelle est la différence entre ces deux variables ?\n",
    "\n",
    "La difference entre c'est deux variables et que a est en type int et b en type str\n",
    "\n",
    "Les variables suivantes sont-elles correctes ?\n",
    "c=a+1\n",
    "d=b+1\n",
    "\n",
    "La variable c est correcte car elle est en type int et la variable d est incorrecte car elle est en type str\n",
    "\n",
    "2- soit la liste suivante L=[1,2,3,4,5,6,7,8,9,10]\n",
    "Quelle est la valeur de L[5] ?\n",
    "La valeur de L[5] est 6\n",
    "\n",
    "Ecrire un programme en Python qui utilise une boucle for pour afficher les éléments de la liste L"
   ]
  },
  {
   "cell_type": "code",
   "execution_count": 3,
   "metadata": {},
   "outputs": [
    {
     "name": "stdout",
     "output_type": "stream",
     "text": [
      "1 2 3 4 5 6 7 8 9 10 "
     ]
    }
   ],
   "source": [
    "L=[1,2,3,4,5,6,7,8,9,10]\n",
    "for x in range(len(L)):\n",
    "    print(L[x], end=' ')"
   ]
  },
  {
   "cell_type": "markdown",
   "metadata": {},
   "source": [
    "3- Ecrire un programme en Python qui utilise une boucle for pour afficher les 5 derniers éléments de\n",
    "la liste L"
   ]
  },
  {
   "cell_type": "code",
   "execution_count": 4,
   "metadata": {},
   "outputs": [
    {
     "name": "stdout",
     "output_type": "stream",
     "text": [
      "6 7 8 9 10 "
     ]
    }
   ],
   "source": [
    "for x in range(len(L)):\n",
    "    if x>=5:\n",
    "        print(L[x], end=' ')"
   ]
  },
  {
   "cell_type": "markdown",
   "metadata": {},
   "source": [
    "4- Ecrire un programme qui utilise une boucle while pour afficher les éléments de la liste L depuis le début et qui s’arrête lorsqu’elle trouve une valeur égale à 7"
   ]
  },
  {
   "cell_type": "code",
   "execution_count": 5,
   "metadata": {},
   "outputs": [
    {
     "name": "stdout",
     "output_type": "stream",
     "text": [
      "1 2 3 4 5 6 7 "
     ]
    }
   ],
   "source": [
    "i=0\n",
    "while i!=7:\n",
    "    print(L[i], end=' ')\n",
    "    i+=1"
   ]
  },
  {
   "cell_type": "markdown",
   "metadata": {},
   "source": [
    "5- utiliser l’instruction conditionnelle if pour afficher pour chaque valeur de la liste L si elle est paire ou\n",
    "impaire"
   ]
  },
  {
   "cell_type": "code",
   "execution_count": 6,
   "metadata": {},
   "outputs": [
    {
     "name": "stdout",
     "output_type": "stream",
     "text": [
      "1 est un chiffre impair\n",
      "2 est un chiffre pair\n",
      "3 est un chiffre impair\n",
      "4 est un chiffre pair\n",
      "5 est un chiffre impair\n",
      "6 est un chiffre pair\n",
      "7 est un chiffre impair\n",
      "8 est un chiffre pair\n",
      "9 est un chiffre impair\n",
      "10 est un chiffre pair\n"
     ]
    }
   ],
   "source": [
    "i=0\n",
    "while i!=len(L):\n",
    "    # print(L[i], end=' ')\n",
    "    if L[i]%2==0:\n",
    "        print(f'{L[i]} est un chiffre pair')\n",
    "    else :\n",
    "        print(f'{L[i]} est un chiffre impair')\n",
    "    i+=1"
   ]
  },
  {
   "cell_type": "markdown",
   "metadata": {},
   "source": [
    "### Partie 2 : les fichiers dans cette partie, nous allons introduire les commandes utiles à l’écriture et la lecture dans  desfichiers.\n",
    "Les fichiers sont omniprésents en informatique et vous en utilisez un grand nombre quotidiennement.\n",
    "Ils servent par exemple à enregistrer un texte rédigé à l’aide d’un traitement de texte, des données numériques saisies à l’aide d’un tableur, une image, une vidéo, etc."
   ]
  },
  {
   "cell_type": "markdown",
   "metadata": {},
   "source": [
    "1- Ecrire un programme qui crée un fichier nommé source.txt et qui contient le message suivant :\n",
    "« SUPER ! Je viens de créer mon premier fichier ! »"
   ]
  },
  {
   "cell_type": "code",
   "execution_count": 7,
   "metadata": {},
   "outputs": [
    {
     "name": "stdout",
     "output_type": "stream",
     "text": [
      "SUPER ! Je viens de créer mon premier fichier !\n"
     ]
    }
   ],
   "source": [
    "f1=open('source.txt', 'w', encoding='utf-8')\n",
    "f1.write('SUPER ! Je viens de créer mon premier fichier !')\n",
    "f1.close()\n",
    "f1=open('source.txt', 'r', encoding='utf-8')\n",
    "s=f1.read()\n",
    "print(s)"
   ]
  },
  {
   "cell_type": "markdown",
   "metadata": {},
   "source": [
    "2- Ecrire un programme qui recopie le contenu du fichier source.txt dans le fichier destination.txt"
   ]
  },
  {
   "cell_type": "code",
   "execution_count": 8,
   "metadata": {},
   "outputs": [
    {
     "name": "stdout",
     "output_type": "stream",
     "text": [
      "SUPER ! Je viens de créer mon premier fichier !\n"
     ]
    }
   ],
   "source": [
    "f2=open('destination.txt', 'w', encoding='utf-8')\n",
    "f2.write(s)\n",
    "f2.close()\n",
    "f2=open('destination.txt', 'r', encoding='utf-8')\n",
    "q=f2.read()\n",
    "print(q)"
   ]
  },
  {
   "cell_type": "markdown",
   "metadata": {},
   "source": [
    "3-Expérimentez l’écriture et la lecture de plusieurs lignes"
   ]
  },
  {
   "cell_type": "code",
   "execution_count": 9,
   "metadata": {},
   "outputs": [
    {
     "name": "stdout",
     "output_type": "stream",
     "text": [
      "SUPER ! Je viens de créer mon premier fichier ! \n",
      "Ceci est la deuxieme ligne du fichier ! \n",
      "\n"
     ]
    }
   ],
   "source": [
    "f1=open('source.txt', 'w', encoding='utf-8')\n",
    "f1.write('SUPER ! Je viens de créer mon premier fichier ! \\n')\n",
    "f1.write('Ceci est la deuxieme ligne du fichier ! \\n')\n",
    "f1.close()\n",
    "f1=open('source.txt', 'r', encoding='utf-8')\n",
    "s=f1.read()\n",
    "print(s)"
   ]
  },
  {
   "cell_type": "markdown",
   "metadata": {},
   "source": [
    "### Partie 3 : encore une dernière chose : le code ASCII Comme vous le savez, un ordinateur ne manipule que des données binaires, c’est-à-dire des « 0 » et des « 1 ».\n",
    "Lors de la transmission de caractères, ces derniers sont transformés en données numériques grâce au code ASCII. Le code ASCII a, par la suite, été étendu pour contenir également les caractères accentués et spéciaux des différentes langues. Etudier le tableau du code ASCII fourni."
   ]
  },
  {
   "cell_type": "markdown",
   "metadata": {},
   "source": [
    "x='A' <br>\n",
    "y=ord(x) <br>\n",
    "print(y) <br>\n",
    "Qu’affiche ce programme ?"
   ]
  },
  {
   "cell_type": "code",
   "execution_count": 10,
   "metadata": {},
   "outputs": [
    {
     "name": "stdout",
     "output_type": "stream",
     "text": [
      "le code ascii de 66\n"
     ]
    }
   ],
   "source": [
    "x='B'\n",
    "y=ord(x)\n",
    "print(f'le code ascii de {y}')"
   ]
  },
  {
   "cell_type": "markdown",
   "metadata": {},
   "source": [
    "x=55<br>\n",
    "y=chr(x)<br>\n",
    "print(y)<br>\n",
    "Qu’affiche ce programme ?"
   ]
  },
  {
   "cell_type": "code",
   "execution_count": 11,
   "metadata": {},
   "outputs": [
    {
     "name": "stdout",
     "output_type": "stream",
     "text": [
      "le format ascii 7\n"
     ]
    }
   ],
   "source": [
    "x=55\n",
    "y=chr(x)\n",
    "print(f'le format ascii {y}')"
   ]
  },
  {
   "cell_type": "markdown",
   "metadata": {},
   "source": [
    "### Partie 4 : Cryptons, cryptons !\n",
    "\n",
    "1- La façon la plus simple (mais qui n’est pas très efficace) de coder un texte est de remplacer chaque\n",
    "caractère par un autre caractère.\n",
    "Par exemple, si le procédé de cryptage consiste à augmenter le code ASCII de chaque caractère d’une unité, le texte ABCDEF deviendra BCDEFG. <br> <br> \n",
    "En effet : <br>\n",
    "ABCDEF correspond aux codes ASCII 65 66 67 68 69 70 <br>\n",
    "BCDEFG correspond aux codes ASCII 66 67 68 69 70 71 <br>\n",
    "\n",
    "Ecrire un programme permettant de lire le contenu du fichier source.txt, de le coder comme indiqué\n",
    "ci-dessus et de sauvegarder le texte résultant dans le fichier message_code.txt"
   ]
  },
  {
   "cell_type": "code",
   "execution_count": 12,
   "metadata": {},
   "outputs": [
    {
     "name": "stdout",
     "output_type": "stream",
     "text": [
      "TVQFS!\"!Kf!wjfot!ef!dsêfs!npo!qsfnjfs!gjdijfs!\"!\u000bDfdj!ftu!mb!efvyjfnf!mjhof!ev!gjdijfs!\"!\u000b\n"
     ]
    }
   ],
   "source": [
    "#initialisation de variables  \n",
    "d=[]\n",
    "i=''\n",
    "#boucle de saisie pour x dans f1.read \n",
    "for x in s:\n",
    "    # Ajout dans la liste d les valeurs en nombres\n",
    "    d.append(ord(x))\n",
    "\n",
    "#boucle de saisie l dans d \n",
    "for l in d:\n",
    "    # incrementation de l \n",
    "    l+=1\n",
    "    # Ajout dans la liste i les valeurs en format ascii\n",
    "    i+=chr(l)\n",
    "\n",
    "# print(i)\n",
    "f1=open('source.txt', 'w', encoding='utf-8')\n",
    "f1.write(i)\n",
    "f1.close()\n",
    "f1=open('source.txt', 'r', encoding='utf-8')\n",
    "s=f1.read()\n",
    "print(s)\n"
   ]
  },
  {
   "cell_type": "markdown",
   "metadata": {},
   "source": [
    "2- Le procédé décrit ci-dessus peut être complexifié en choisissant un décalage de plus d’une unité.\n",
    "Sachant que le message fourni dans le fichier message_secret.txt a été décalé d’une valeur comprise\n",
    "entre -4 et +4, écrire un programme qui permet de découvrir le message secret."
   ]
  },
  {
   "cell_type": "code",
   "execution_count": 21,
   "metadata": {},
   "outputs": [
    {
     "name": "stdout",
     "output_type": "stream",
     "text": [
      ":J9NG\u0018\u0019\u0018Ngmk\u0018Yn]r\u0018ljgmná\u0018d]\u0018e]kkY_]\u0018k][j]l\u0018\u0019\u0018Ngmk\u0018Yn]r\u0018gZl]fm\u0018nglj]\u0018hj]ea]j\u0018\\ahdìe]\u0018\\\u001f]khagf&;K:OH\u0019\u001a\u0019Ohnl\u0019Zo^s\u0019mkhnoâ\u0019e^\u0019f^llZ`^\u0019l^\\k^m\u0019\u001a\u0019Ohnl\u0019Zo^s\u0019h[m^gn\u0019ohmk^\u0019ik^fb^k\u0019]bieíf^\u0019] ^libhg'<L;PI\u001a\u001b\u001aPiom\u001a[p_t\u001anliopã\u001af_\u001ag_mm[a_\u001am_]l_n\u001a\u001b\u001aPiom\u001a[p_t\u001ai\\n_ho\u001apinl_\u001ajl_gc_l\u001a^cjfîg_\u001a^!_mjcih(=M<QJ\u001b\u001c\u001bQjpn\u001b\\q`u\u001bomjpqä\u001bg`\u001bh`nn\\b`\u001bn`^m`o\u001b\u001c\u001bQjpn\u001b\\q`u\u001bj]o`ip\u001bqjom`\u001bkm`hd`m\u001b_dkgïh`\u001b_\"`nkdji)>N=RK\u001c\u001d\u001cRkqo\u001c]rav\u001cpnkqrå\u001cha\u001ciaoo]ca\u001coa_nap\u001c\u001d\u001cRkqo\u001c]rav\u001ck^pajq\u001crkpna\u001clnaiean\u001c`elhðia\u001c`#aolekj*?O>SL\u001d\u001e\u001dSlrp\u001d^sbw\u001dqolrsæ\u001dib\u001djbpp^db\u001dpb`obq\u001d\u001e\u001dSlrp\u001d^sbw\u001dl_qbkr\u001dslqob\u001dmobjfbo\u001dafmiñjb\u001da$bpmflk+@P?TM\u001e\u001f\u001eTmsq\u001e_tcx\u001erpmstç\u001ejc\u001ekcqq_ec\u001eqcapcr\u001e\u001f\u001eTmsq\u001e_tcx\u001em`rcls\u001etmrpc\u001enpckgcp\u001ebgnjòkc\u001eb%cqngml,AQ@UN\u001f \u001fUntr\u001f`udy\u001fsqntuè\u001fkd\u001fldrr`fd\u001frdbqds\u001f \u001fUntr\u001f`udy\u001fnasdmt\u001funsqd\u001foqdlhdq\u001fchokóld\u001fc&drohnm-BRAVO ! Vous avez trouvé le message secret ! Vous avez obtenu votre premier diplôme d'espion.\n"
     ]
    }
   ],
   "source": [
    "f1=open('message_secret.txt', 'r', encoding='utf-8')\n",
    "f2=open('message_decode.txt', 'w', encoding='utf-8')\n",
    "s=f1.read()\n",
    "\n",
    "d=[]\n",
    "i=0\n",
    "for x in s:\n",
    "    d.append(ord(x))\n",
    "\n",
    "for l in range(-4,5):\n",
    "    \n",
    "    for x in d:\n",
    "        x+=l\n",
    "        i=chr(x)\n",
    "        f2.write(i)\n",
    "f2.close()\n",
    "f2=open('message_decode.txt', 'r', encoding='utf-8')\n",
    "q=f2.read()\n",
    "    \n",
    "print(q)"
   ]
  },
  {
   "cell_type": "markdown",
   "metadata": {},
   "source": [
    "Questions subsidiaires :\n",
    "Trouver le contenu \"en clair\" des 2 fichiers suivants, en ne réalisant qu'un seul déchiffrement par fichier (pas de \"brute force\" avec tous les décalages possibles). Il faut pour cela, analyser le texte chiffré pour trouver la lettre la plus utilisée et en déduire le décalage...\n",
    "\n",
    "La version v2 ne contient que des majuscules sans ponctuation."
   ]
  },
  {
   "cell_type": "code",
   "execution_count": 118,
   "metadata": {},
   "outputs": [
    {
     "name": "stdout",
     "output_type": "stream",
     "text": [
      "{'E': 5, 'Y': 37, 'æ': 2, 'l': 35, 'j': 39, ']': 80, '\\x18': 115, ';': 5, 'g': 37, 'Z': 15, 'm': 41, '$': 15, 'k': 35, 'f': 35, 'h': 16, '[': 10, '`': 5, 'á': 6, '\\x02': 20, 'L': 2, 'a': 23, '^': 4, 'e': 11, '_': 7, '&': 6, 'J': 2, '\\\\': 13, 'd': 20, '\\x1f': 5, 'D': 4, 'Ø': 2, 'à': 1, '2': 2, '=': 4, 'b': 3, 'I': 1, 'n': 7, 'â': 2, '\\x19': 2, 'i': 4, 'r': 2, 'K': 2, 'N': 2, 'H': 1, 'p': 4, 'ì': 1, '¸': 1, 'A': 2, '9': 3, 'ß': 1, 'B': 2, 'q': 1, '<': 1, '>': 1, 'G': 1, 'F': 2}\n",
      "\u0018 : 115\n",
      "24\n",
      "\n",
      "8\n",
      "Maître Cobu,snpché\n",
      "Tifmg.Rdl'Làè:EjQvê!qzSVPxôÀIAçJyDFON"
     ]
    }
   ],
   "source": [
    "from collections import Counter\n",
    "f1=open('message_inconnu1.cipher', 'r', encoding='utf-8')\n",
    "s=f1.read()\n",
    "d={}\n",
    "nd=[]\n",
    "nnd=[]\n",
    "ch=''\n",
    "cha=Counter(s)\n",
    "for (key , value) in cha.items() :\n",
    "    # print(f'{key} : {value}')\n",
    "    d.update({key:value})\n",
    "print(d)\n",
    "# print(sorted(d.keys(), reverse=False))\n",
    "x=max(d.values())\n",
    "for (key , value) in d.items() :\n",
    "    if value==x:\n",
    "        print(f'{key} : {value}')\n",
    "        ch=key\n",
    "# print(ch)\n",
    "cht=ord(ch)\n",
    "print(cht)\n",
    "# boucle qui permet de trouver le decalage\n",
    "for x in range(0,127):\n",
    "    # print(chr(x), end=' ')\n",
    "    # print(ch,end=' ')\n",
    "    # print(chr(ch),end=' ')\n",
    "    ch=cht+1\n",
    "print()\n",
    "# print(65-24)\n",
    "for (key,value) in d.items():\n",
    "    nd.append(key)\n",
    "# print(nd)\n",
    "for x in nd:\n",
    "    nnd.append(ord(x))\n",
    "# print(nnd)\n",
    "space=ord(' ')\n",
    "decal=space-24\n",
    "print(decal)\n",
    "for x in nnd:\n",
    "    x+=decal\n",
    "    print(chr(x), end='')"
   ]
  },
  {
   "cell_type": "code",
   "execution_count": 123,
   "metadata": {},
   "outputs": [
    {
     "name": "stdout",
     "output_type": "stream",
     "text": [
      "{'6': 5, '=': 38, ';': 27, '3': 101, ':': 31, '7': 33, '0': 12, '@': 40, 'B': 52, 'C': 34, '8': 2, 'A': 56, '1': 14, '/': 42, '<': 37, '>': 12, '2': 21, '4': 6, '5': 6, 'G': 1, 'F': 4, '?': 3, 'D': 8, 'H': 2}\n",
      "3 : 101\n",
      "51\n",
      "\n",
      "50\n",
      "homelibrtujscanpdfgyxqvz"
     ]
    }
   ],
   "source": [
    "from collections import Counter\n",
    "f1=open('message_inconnue2V2.txt', 'r', encoding='utf-8')\n",
    "s=f1.read()\n",
    "d={}\n",
    "nd=[]\n",
    "nnd=[]\n",
    "ch=''\n",
    "cha=Counter(s)\n",
    "for (key , value) in cha.items() :\n",
    "    # print(f'{key} : {value}')\n",
    "    d.update({key:value})\n",
    "print(d)\n",
    "# print(sorted(d.keys(), reverse=False))\n",
    "x=max(d.values())\n",
    "for (key , value) in d.items() :\n",
    "    if value==x:\n",
    "        print(f'{key} : {value}')\n",
    "        ch=key\n",
    "# print(ch)\n",
    "cht=ord(ch)\n",
    "print(cht)\n",
    "# boucle qui permet de trouver le decalage\n",
    "for x in range(0,127):\n",
    "    # print(chr(x), end=' ')\n",
    "    # print(ch,end=' ')\n",
    "    # print(chr(ch),end=' ')\n",
    "    ch=cht+1\n",
    "print()\n",
    "# print(65-24)\n",
    "for (key,value) in d.items():\n",
    "    nd.append(key)\n",
    "# print(nd)\n",
    "for x in nd:\n",
    "    nnd.append(ord(x))\n",
    "# print(nnd)\n",
    "space=ord('e')\n",
    "decal=space-cht\n",
    "print(decal)\n",
    "for x in nnd:\n",
    "    x+=decal\n",
    "    print(chr(x), end='')"
   ]
  }
 ],
 "metadata": {
  "kernelspec": {
   "display_name": "Python 3.10.6 64-bit",
   "language": "python",
   "name": "python3"
  },
  "language_info": {
   "codemirror_mode": {
    "name": "ipython",
    "version": 3
   },
   "file_extension": ".py",
   "mimetype": "text/x-python",
   "name": "python",
   "nbconvert_exporter": "python",
   "pygments_lexer": "ipython3",
   "version": "3.10.6"
  },
  "orig_nbformat": 4,
  "vscode": {
   "interpreter": {
    "hash": "916dbcbb3f70747c44a77c7bcd40155683ae19c65e1c03b4aa3499c5328201f1"
   }
  }
 },
 "nbformat": 4,
 "nbformat_minor": 2
}
