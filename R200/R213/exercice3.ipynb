{
 "cells": [
  {
   "attachments": {},
   "cell_type": "markdown",
   "metadata": {},
   "source": [
    "Soit (un)n∈N la suite arithmetico-geometrique telle que\n",
    "∀n ∈ N; \n",
    "un+1 = aun + (a + b)\n",
    "\n",
    "avec u0 = 0.\n",
    "\n",
    "a) Programmer une fonction Python recursive qui prend en entree la valeur de n et renvoie la valeur de un."
   ]
  },
  {
   "cell_type": "code",
   "execution_count": 19,
   "metadata": {},
   "outputs": [
    {
     "name": "stdout",
     "output_type": "stream",
     "text": [
      "u5=10885\n",
      "u10=84652645\n"
     ]
    }
   ],
   "source": [
    "def Un(n):\n",
    "    a=6\n",
    "    b=1\n",
    "    if n==0:\n",
    "        return 0\n",
    "    else: \n",
    "        return a*Un(n-1) + a+b \n",
    "\n",
    "print(f'u5={Un(5)}')\n",
    "print(f'u10={Un(10)}')\n",
    "\n",
    "# pour u5 je dois trouver =10885\n",
    "# pour u10 = 8465245\n",
    "\n"
   ]
  }
 ],
 "metadata": {
  "kernelspec": {
   "display_name": "Python 3",
   "language": "python",
   "name": "python3"
  },
  "language_info": {
   "codemirror_mode": {
    "name": "ipython",
    "version": 3
   },
   "file_extension": ".py",
   "mimetype": "text/x-python",
   "name": "python",
   "nbconvert_exporter": "python",
   "pygments_lexer": "ipython3",
   "version": "3.10.6"
  },
  "orig_nbformat": 4
 },
 "nbformat": 4,
 "nbformat_minor": 2
}
